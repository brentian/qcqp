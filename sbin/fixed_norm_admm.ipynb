{
 "cells": [
  {
   "cell_type": "code",
   "execution_count": 13,
   "metadata": {
    "execution": {
     "iopub.execute_input": "2021-10-20T12:31:06.604287Z",
     "iopub.status.busy": "2021-10-20T12:31:06.604107Z",
     "iopub.status.idle": "2021-10-20T12:31:06.607985Z",
     "shell.execute_reply": "2021-10-20T12:31:06.607548Z",
     "shell.execute_reply.started": "2021-10-20T12:31:06.604267Z"
    }
   },
   "outputs": [
    {
     "name": "stdout",
     "output_type": "stream",
     "text": [
      "/Users/brent/Archiver/Workspace/qcqp/src\n"
     ]
    }
   ],
   "source": [
    "cd ../src/"
   ]
  },
  {
   "cell_type": "code",
   "execution_count": 14,
   "metadata": {
    "execution": {
     "iopub.execute_input": "2021-10-20T12:31:36.844968Z",
     "iopub.status.busy": "2021-10-20T12:31:36.844803Z",
     "iopub.status.idle": "2021-10-20T12:31:36.857524Z",
     "shell.execute_reply": "2021-10-20T12:31:36.856559Z",
     "shell.execute_reply.started": "2021-10-20T12:31:36.844951Z"
    }
   },
   "outputs": [],
   "source": [
    "import collections\n",
    "\n",
    "import numpy as np\n",
    "import pandas as pd\n",
    "\n",
    "from pyqptest.helpers import *"
   ]
  },
  {
   "cell_type": "code",
   "execution_count": 15,
   "metadata": {
    "execution": {
     "iopub.execute_input": "2021-10-20T12:31:10.145329Z",
     "iopub.status.busy": "2021-10-20T12:31:10.145163Z",
     "iopub.status.idle": "2021-10-20T12:31:10.149355Z",
     "shell.execute_reply": "2021-10-20T12:31:10.148658Z",
     "shell.execute_reply.started": "2021-10-20T12:31:10.145310Z"
    }
   },
   "outputs": [
    {
     "name": "stdout",
     "output_type": "stream",
     "text": [
      "usage: QCQP runner [-h] [--dump_instance DUMP_INSTANCE] [--r R]\n",
      "                   [--fpath FPATH] [--n N] [--m M] [--pc PC]\n",
      "                   [--time_limit TIME_LIMIT] [--verbose VERBOSE] [--bg BG]\n",
      "                   [--bg_rd BG_RD]\n",
      "\n",
      "optional arguments:\n",
      "  -h, --help            show this help message and exit\n",
      "  --dump_instance DUMP_INSTANCE\n",
      "                        if save instance\n",
      "  --r R                 {1: 'grb', 2: 'shor', 3: 'dshor', 4: 'msc', 5: 'emsc',\n",
      "                        6: 'ssdp', 7: 'bb', 8: 'bb_msc', 9: 'shor_homo'}\n",
      "  --fpath FPATH         path of the instance\n",
      "  --n N                 dim of x\n",
      "  --m M                 if randomly generated num of constraints\n",
      "  --pc PC               if randomly generated problem branch_type\n",
      "  --time_limit TIME_LIMIT\n",
      "                        time limit of running.\n",
      "  --verbose VERBOSE     if verbose\n",
      "  --bg BG               backend used\n",
      "  --bg_rd BG_RD         backend used, rank reduction\n",
      "usage: QCQP runner [-h] [--dump_instance DUMP_INSTANCE] [--r R]\n",
      "                   [--fpath FPATH] [--n N] [--m M] [--pc PC]\n",
      "                   [--time_limit TIME_LIMIT] [--verbose VERBOSE] [--bg BG]\n",
      "                   [--bg_rd BG_RD]\n"
     ]
    }
   ],
   "source": [
    "parser.print_help()\n",
    "args, unknown = parser.parse_known_args()\n",
    "params = BCParams()\n",
    "kwargs, r_methods = params.produce_args(parser, METHOD_CODES)"
   ]
  },
  {
   "cell_type": "code",
   "execution_count": 40,
   "metadata": {
    "execution": {
     "iopub.execute_input": "2021-10-20T12:31:43.056718Z",
     "iopub.status.busy": "2021-10-20T12:31:43.056548Z",
     "iopub.status.idle": "2021-10-20T12:31:43.059183Z",
     "shell.execute_reply": "2021-10-20T12:31:43.058650Z",
     "shell.execute_reply.started": "2021-10-20T12:31:43.056699Z"
    }
   },
   "outputs": [],
   "source": [
    "# r_methods = {'bb', 'grb', 'shor'}\n",
    "r_methods = {'grb'}"
   ]
  },
  {
   "cell_type": "code",
   "execution_count": 41,
   "metadata": {
    "execution": {
     "iopub.execute_input": "2021-10-20T12:31:12.658466Z",
     "iopub.status.busy": "2021-10-20T12:31:12.658301Z",
     "iopub.status.idle": "2021-10-20T12:31:12.665333Z",
     "shell.execute_reply": "2021-10-20T12:31:12.664758Z",
     "shell.execute_reply.started": "2021-10-20T12:31:12.658448Z"
    }
   },
   "outputs": [],
   "source": [
    "n, m = 50, 0\n",
    "# problem\n",
    "problem_id = f\"{n}:{m}:{0}\"\n",
    "# start\n",
    "# qp = QPI.block(n, m, r=2, eps=0.5)\n",
    "qp = QPI.normal(int(n), int(m), rho=0.4)\n",
    "bd = Bounds(xlb=np.zeros(shape=(n, 1)), xub=np.ones(shape=(n, 1)))"
   ]
  },
  {
   "cell_type": "markdown",
   "metadata": {},
   "source": [
    "# benchmarking"
   ]
  },
  {
   "cell_type": "code",
   "execution_count": 42,
   "metadata": {},
   "outputs": [
    {
     "name": "stdout",
     "output_type": "stream",
     "text": [
      "Parameter OutputFlag unchanged\n",
      "   Value: 1  Min: 0  Max: 1  Default: 1\n",
      "Changed value of parameter NonConvex to 2\n",
      "   Prev: -1  Min: -1  Max: 2  Default: -1\n",
      "Changed value of parameter TimeLimit to 60.0\n",
      "   Prev: inf  Min: 0.0  Max: inf  Default: inf\n",
      "Changed value of parameter Threads to 1\n",
      "   Prev: 0  Min: 0  Max: 1024  Default: 0\n",
      "Gurobi Optimizer version 9.1.0 build v9.1.0rc0 (mac64)\n",
      "Thread count: 6 physical cores, 12 logical processors, using up to 1 threads\n",
      "Optimize a model with 0 rows, 50 columns and 0 nonzeros\n",
      "Model fingerprint: 0x1dc4bd2a\n",
      "Model has 713 quadratic objective terms\n",
      "Coefficient statistics:\n",
      "  Matrix range     [0e+00, 0e+00]\n",
      "  Objective range  [1e+00, 4e+00]\n",
      "  QObjective range [2e+00, 3e+01]\n",
      "  Bounds range     [1e+00, 1e+00]\n",
      "  RHS range        [0e+00, 0e+00]\n",
      "\n",
      "Continuous model is non-convex -- solving as a MIP.\n",
      "\n",
      "Found heuristic solution: objective -0.0000000\n",
      "Presolve time: 0.00s\n",
      "Presolved: 970 rows, 755 columns, 3069 nonzeros\n",
      "Presolved model has 11 quadratic constraint(s)\n",
      "Presolved model has 31 bilinear constraint(s)\n",
      "Variable types: 283 continuous, 472 integer (472 binary)\n",
      "\n",
      "Root relaxation: objective 5.305000e+02, 492 iterations, 0.01 seconds\n",
      "\n",
      "    Nodes    |    Current Node    |     Objective Bounds      |     Work\n",
      " Expl Unexpl |  Obj  Depth IntInf | Incumbent    BestBd   Gap | It/Node Time\n",
      "\n",
      "     0     0  530.50000    0  231   -0.00000  530.50000      -     -    0s\n",
      "H    0     0                      20.0000000  530.50000  2553%     -    0s\n",
      "     0     0  253.91328    0  332   20.00000  253.91328  1170%     -    0s\n",
      "H    0     0                      63.6922966  253.91328   299%     -    0s\n",
      "     0     0  253.86616    0  331   63.69230  253.86616   299%     -    0s\n",
      "     0     0  227.83962    0  329   63.69230  227.83962   258%     -    0s\n",
      "     0     0  223.10864    0  334   63.69230  223.10864   250%     -    0s\n",
      "     0     0  213.48574    0  344   63.69230  213.48574   235%     -    0s\n",
      "H    0     0                      68.5498342  213.48574   211%     -    0s\n",
      "     0     0  212.47974    0  346   68.54983  212.47974   210%     -    0s\n",
      "     0     0  207.58134    0  369   68.54983  207.58134   203%     -    0s\n",
      "     0     0  206.43764    0  361   68.54983  206.43764   201%     -    0s\n",
      "     0     0  205.33020    0  367   68.54983  205.33020   200%     -    0s\n",
      "     0     0  205.33020    0  364   68.54983  205.33020   200%     -    0s\n",
      "H    0     0                     102.2515661  205.33020   101%     -    0s\n",
      "H    0     0                     117.1181320  205.33020  75.3%     -    0s\n",
      "H    0     0                     123.3829318  205.33020  66.4%     -    0s\n",
      "     0     2  205.32680    0  362  123.38293  205.32680  66.4%     -    0s\n",
      "H   13    13                     176.9549738  205.32680  16.0%   277    1s\n",
      "*   14    13              11     177.0312587  205.32680  16.0%   259    1s\n",
      "*  118    11               9     177.0416715  186.86087  5.55%   211    2s\n",
      "\n",
      "Cutting planes:\n",
      "  Gomory: 1\n",
      "  MIR: 38\n",
      "  Flow cover: 10\n",
      "  Zero half: 47\n",
      "  RLT: 387\n",
      "  BQP: 159\n",
      "  PSD: 53\n",
      "\n",
      "Explored 132 nodes (32469 simplex iterations) in 2.37 seconds\n",
      "Thread count was 1 (of 12 available processors)\n",
      "\n",
      "Solution count 10: 177.042 177.031 176.955 ... -0\n",
      "\n",
      "Optimal solution found (tolerance 1.00e-04)\n",
      "Best objective 1.770416663075e+02, best bound 1.770416714636e+02, gap 0.0000%\n",
      "grb benchmark @177.04166630745897\n"
     ]
    }
   ],
   "source": [
    "evals = []\n",
    "results = {}\n",
    "# run methods\n",
    "for k in r_methods:\n",
    "  func = METHODS[k]\n",
    "  qp1 = bb_msc.QP(*qp.unpack())\n",
    "  qp1.decompose()\n",
    "  r = func(qp1, bd, params=params)\n",
    "  reval = r.eval(problem_id)\n",
    "  evals.append({**reval.__dict__, \"method\": k})\n",
    "  results[k] = r\n",
    "for k, r in results.items():\n",
    "  print(f\"{k} benchmark @{r.relax_obj}\")\n",
    "  r.check(qp)"
   ]
  },
  {
   "cell_type": "code",
   "execution_count": 35,
   "metadata": {
    "execution": {
     "iopub.execute_input": "2021-10-20T12:32:57.780354Z",
     "iopub.status.busy": "2021-10-20T12:32:57.780155Z",
     "iopub.status.idle": "2021-10-20T12:32:57.784436Z",
     "shell.execute_reply": "2021-10-20T12:32:57.783980Z",
     "shell.execute_reply.started": "2021-10-20T12:32:57.780322Z"
    }
   },
   "outputs": [
    {
     "data": {
      "text/plain": [
       "(array([[ 0.75],\n",
       "        [ 1.  ],\n",
       "        [ 0.  ],\n",
       "        [ 0.  ],\n",
       "        [-0.  ],\n",
       "        [ 1.  ],\n",
       "        [-0.  ],\n",
       "        [ 0.  ],\n",
       "        [ 1.  ],\n",
       "        [-0.  ]]),\n",
       " array([[0.75],\n",
       "        [1.  ],\n",
       "        [0.  ],\n",
       "        [0.  ],\n",
       "        [0.  ],\n",
       "        [1.  ],\n",
       "        [0.  ],\n",
       "        [0.  ],\n",
       "        [1.  ],\n",
       "        [0.  ]]))"
      ]
     },
     "execution_count": 35,
     "metadata": {},
     "output_type": "execute_result"
    }
   ],
   "source": [
    "results['grb'].xval, results['bb'].xval.round(2)"
   ]
  },
  {
   "cell_type": "code",
   "execution_count": 43,
   "metadata": {
    "execution": {
     "iopub.execute_input": "2021-10-20T12:36:07.120908Z",
     "iopub.status.busy": "2021-10-20T12:36:07.120742Z",
     "iopub.status.idle": "2021-10-20T12:36:07.123249Z",
     "shell.execute_reply": "2021-10-20T12:36:07.122728Z",
     "shell.execute_reply.started": "2021-10-20T12:36:07.120890Z"
    }
   },
   "outputs": [],
   "source": [
    "import pyqp.bg_msk_admm as pyadm\n",
    "import importlib\n",
    "importlib.reload(pyadm)\n",
    "qp1 = bb_msc.QP(*qp.unpack())\n",
    "qp1.decompose(decompose_method='eig-type2')\n",
    "# initialize\n",
    "m, n, dim = qp1.a.shape\n",
    "xval = np.ones((n, dim))\n",
    "sval = (xval.T @ xval).trace()\n",
    "rho = 1\n",
    "kappa = 0\n",
    "mu = 0\n",
    "xival = xval"
   ]
  },
  {
   "cell_type": "code",
   "execution_count": 44,
   "metadata": {},
   "outputs": [
    {
     "name": "stdout",
     "output_type": "stream",
     "text": [
      "iteration @1 ## alm: -77.0937 norm t - s: -1.1407e+00, 𝜉x - t: -1.1861e+01\n",
      "iteration @2 ## alm: -117.8659 norm t - s: -3.6610e+00, 𝜉x - t: -2.4925e+00\n",
      "iteration @3 ## alm: -159.6310 norm t - s: -1.5314e+00, 𝜉x - t: -2.3248e+00\n",
      "iteration @4 ## alm: -180.1054 norm t - s: -9.7509e-01, 𝜉x - t: -2.2281e+00\n",
      "iteration @5 ## alm: -183.2715 norm t - s: -7.4940e-01, 𝜉x - t: -2.3304e+00\n",
      "iteration @6 ## alm: -180.5201 norm t - s: -6.4205e-01, 𝜉x - t: -2.2325e+00\n",
      "iteration @7 ## alm: -177.9306 norm t - s: -6.2393e-01, 𝜉x - t: -1.9709e+00\n",
      "iteration @8 ## alm: -177.1123 norm t - s: -6.6393e-01, 𝜉x - t: -1.6122e+00\n",
      "iteration @9 ## alm: -177.5685 norm t - s: -5.7370e-01, 𝜉x - t: -1.4152e+00\n",
      "iteration @10 ## alm: -177.0587 norm t - s: -6.3407e-01, 𝜉x - t: -1.1682e+00\n",
      "iteration @11 ## alm: -176.8766 norm t - s: -6.5085e-01, 𝜉x - t: -9.9487e-01\n",
      "iteration @12 ## alm: -175.9071 norm t - s: -5.4421e-01, 𝜉x - t: -9.7635e-01\n",
      "iteration @13 ## alm: -174.8315 norm t - s: -4.7471e-01, 𝜉x - t: -9.4183e-01\n",
      "iteration @14 ## alm: -173.8924 norm t - s: -4.3364e-01, 𝜉x - t: -8.9302e-01\n",
      "iteration @15 ## alm: -173.0913 norm t - s: -4.1400e-01, 𝜉x - t: -8.3016e-01\n",
      "iteration @16 ## alm: -172.4325 norm t - s: -4.1092e-01, 𝜉x - t: -7.5368e-01\n",
      "iteration @17 ## alm: -171.9144 norm t - s: -4.1408e-01, 𝜉x - t: -6.6755e-01\n",
      "iteration @18 ## alm: -171.4949 norm t - s: -4.0104e-01, 𝜉x - t: -6.0641e-01\n",
      "iteration @19 ## alm: -171.1011 norm t - s: -3.8129e-01, 𝜉x - t: -5.5345e-01\n",
      "iteration @20 ## alm: -170.7843 norm t - s: -3.6431e-01, 𝜉x - t: -5.0155e-01\n",
      "iteration @21 ## alm: -170.5514 norm t - s: -3.4341e-01, 𝜉x - t: -4.5302e-01\n",
      "iteration @22 ## alm: -170.4199 norm t - s: -3.1555e-01, 𝜉x - t: -4.1097e-01\n",
      "iteration @23 ## alm: -170.3596 norm t - s: -2.7598e-01, 𝜉x - t: -4.0231e-01\n",
      "iteration @24 ## alm: -170.2730 norm t - s: -2.4074e-01, 𝜉x - t: -4.0709e-01\n",
      "iteration @25 ## alm: -170.1220 norm t - s: -2.0294e-01, 𝜉x - t: -4.3122e-01\n",
      "iteration @26 ## alm: -169.9329 norm t - s: -1.8290e-01, 𝜉x - t: -4.4440e-01\n",
      "iteration @27 ## alm: -169.7288 norm t - s: -1.7477e-01, 𝜉x - t: -4.4851e-01\n",
      "iteration @28 ## alm: -169.5174 norm t - s: -1.7401e-01, 𝜉x - t: -4.4584e-01\n",
      "iteration @29 ## alm: -169.3056 norm t - s: -1.7776e-01, 𝜉x - t: -4.3801e-01\n",
      "iteration @30 ## alm: -169.0980 norm t - s: -1.8321e-01, 𝜉x - t: -4.2737e-01\n",
      "iteration @31 ## alm: -168.9021 norm t - s: -2.4105e-01, 𝜉x - t: -3.4811e-01\n",
      "iteration @32 ## alm: -168.7395 norm t - s: -2.6856e-01, 𝜉x - t: -2.8899e-01\n",
      "iteration @33 ## alm: -168.5952 norm t - s: -2.5535e-01, 𝜉x - t: -2.7051e-01\n",
      "iteration @34 ## alm: -168.4667 norm t - s: -2.4217e-01, 𝜉x - t: -2.5241e-01\n",
      "iteration @35 ## alm: -168.3543 norm t - s: -2.2921e-01, 𝜉x - t: -2.3534e-01\n",
      "iteration @36 ## alm: -168.2573 norm t - s: -2.1640e-01, 𝜉x - t: -2.1966e-01\n",
      "iteration @37 ## alm: -168.1745 norm t - s: -2.0415e-01, 𝜉x - t: -2.0494e-01\n",
      "iteration @38 ## alm: -168.1047 norm t - s: -1.9293e-01, 𝜉x - t: -1.9097e-01\n",
      "iteration @39 ## alm: -168.0470 norm t - s: -1.8219e-01, 𝜉x - t: -1.7863e-01\n",
      "iteration @40 ## alm: -168.0000 norm t - s: -1.7338e-01, 𝜉x - t: -1.6725e-01\n",
      "iteration @41 ## alm: -167.9628 norm t - s: -1.6586e-01, 𝜉x - t: -1.5861e-01\n",
      "iteration @42 ## alm: -167.9345 norm t - s: -1.5620e-01, 𝜉x - t: -1.5201e-01\n",
      "iteration @43 ## alm: -167.9159 norm t - s: -1.5001e-01, 𝜉x - t: -1.4323e-01\n",
      "iteration @44 ## alm: -167.9074 norm t - s: -1.4400e-01, 𝜉x - t: -1.3553e-01\n",
      "iteration @45 ## alm: -167.9097 norm t - s: -1.3820e-01, 𝜉x - t: -1.2867e-01\n",
      "iteration @46 ## alm: -167.9244 norm t - s: -1.3320e-01, 𝜉x - t: -1.2193e-01\n",
      "iteration @47 ## alm: -167.9530 norm t - s: -1.2846e-01, 𝜉x - t: -1.1603e-01\n",
      "iteration @48 ## alm: -167.9978 norm t - s: -1.2333e-01, 𝜉x - t: -1.1064e-01\n",
      "iteration @49 ## alm: -168.0620 norm t - s: -1.0428e-01, 𝜉x - t: -1.1187e-01\n",
      "iteration @50 ## alm: -168.1602 norm t - s: -9.7126e-02, 𝜉x - t: -9.9750e-02\n",
      "iteration @51 ## alm: -168.3301 norm t - s: -9.0377e-02, 𝜉x - t: -8.5272e-02\n",
      "iteration @52 ## alm: -168.6428 norm t - s: -8.6510e-02, 𝜉x - t: -6.5066e-02\n",
      "iteration @53 ## alm: -169.2319 norm t - s: -9.2192e-02, 𝜉x - t: -4.1487e-02\n",
      "iteration @54 ## alm: -170.2395 norm t - s:  3.2169e-02, 𝜉x - t: -1.2764e-01\n",
      "iteration @55 ## alm: -171.3857 norm t - s: -8.8742e-02, 𝜉x - t: -1.3454e-03\n",
      "iteration @56 ## alm: -173.1931 norm t - s: -3.0010e-02, 𝜉x - t: -1.7861e-02\n",
      "iteration @57 ## alm: -175.2376 norm t - s:  1.7301e-02, 𝜉x - t: -6.5965e-02\n",
      "iteration @58 ## alm: -176.8743 norm t - s: -6.1789e-02, 𝜉x - t:  1.2671e-02\n",
      "iteration @59 ## alm: -177.0269 norm t - s: -1.9102e-02, 𝜉x - t: -3.1455e-02\n",
      "iteration @60 ## alm: -177.0474 norm t - s: -1.9039e-02, 𝜉x - t: -3.2493e-02\n",
      "iteration @61 ## alm: -177.0586 norm t - s: -2.0622e-02, 𝜉x - t: -3.1398e-02\n",
      "iteration @62 ## alm: -177.0646 norm t - s: -2.1798e-02, 𝜉x - t: -3.0400e-02\n",
      "iteration @63 ## alm: -177.0675 norm t - s: -2.2652e-02, 𝜉x - t: -2.9377e-02\n",
      "iteration @64 ## alm: -177.0686 norm t - s: -2.3327e-02, 𝜉x - t: -2.8341e-02\n",
      "iteration @65 ## alm: -177.0687 norm t - s: -2.3475e-02, 𝜉x - t: -2.7694e-02\n",
      "iteration @66 ## alm: -177.0682 norm t - s: -2.3795e-02, 𝜉x - t: -2.6655e-02\n",
      "iteration @67 ## alm: -177.0674 norm t - s: -2.4287e-02, 𝜉x - t: -2.5430e-02\n",
      "iteration @68 ## alm: -177.0664 norm t - s: -2.4518e-02, 𝜉x - t: -2.4273e-02\n",
      "iteration @69 ## alm: -177.0653 norm t - s: -2.4383e-02, 𝜉x - t: -2.3430e-02\n",
      "iteration @70 ## alm: -177.0642 norm t - s: -2.3849e-02, 𝜉x - t: -2.3073e-02\n",
      "iteration @71 ## alm: -177.0631 norm t - s: -2.3080e-02, 𝜉x - t: -2.2857e-02\n",
      "iteration @72 ## alm: -177.0621 norm t - s: -2.2227e-02, 𝜉x - t: -2.2848e-02\n",
      "iteration @73 ## alm: -177.0611 norm t - s: -2.1388e-02, 𝜉x - t: -2.2856e-02\n",
      "iteration @74 ## alm: -177.0601 norm t - s: -2.0334e-02, 𝜉x - t: -2.3118e-02\n",
      "iteration @75 ## alm: -177.0592 norm t - s: -1.9550e-02, 𝜉x - t: -2.3146e-02\n",
      "iteration @76 ## alm: -177.0583 norm t - s: -2.0021e-02, 𝜉x - t: -2.1870e-02\n",
      "iteration @77 ## alm: -177.0574 norm t - s: -2.0285e-02, 𝜉x - t: -2.0864e-02\n",
      "iteration @78 ## alm: -177.0566 norm t - s: -2.0111e-02, 𝜉x - t: -2.0190e-02\n",
      "iteration @79 ## alm: -177.0557 norm t - s: -1.9603e-02, 𝜉x - t: -1.9860e-02\n",
      "iteration @80 ## alm: -177.0550 norm t - s: -1.9335e-02, 𝜉x - t: -1.9290e-02\n",
      "iteration @81 ## alm: -177.0542 norm t - s: -1.8936e-02, 𝜉x - t: -1.8861e-02\n",
      "iteration @82 ## alm: -177.0535 norm t - s: -1.8364e-02, 𝜉x - t: -1.8721e-02\n",
      "iteration @83 ## alm: -177.0529 norm t - s: -1.8154e-02, 𝜉x - t: -1.8118e-02\n",
      "iteration @84 ## alm: -177.0522 norm t - s: -1.7778e-02, 𝜉x - t: -1.7789e-02\n",
      "iteration @85 ## alm: -177.0516 norm t - s: -1.7428e-02, 𝜉x - t: -1.7344e-02\n",
      "iteration @86 ## alm: -177.0510 norm t - s: -1.7045e-02, 𝜉x - t: -1.7041e-02\n",
      "iteration @87 ## alm: -177.0504 norm t - s: -1.6708e-02, 𝜉x - t: -1.6702e-02\n",
      "iteration @88 ## alm: -177.0499 norm t - s: -1.6379e-02, 𝜉x - t: -1.6362e-02\n",
      "iteration @89 ## alm: -177.0493 norm t - s: -1.6046e-02, 𝜉x - t: -1.6035e-02\n",
      "iteration @90 ## alm: -177.0488 norm t - s: -1.5725e-02, 𝜉x - t: -1.5703e-02\n",
      "iteration @91 ## alm: -177.0484 norm t - s: -1.5396e-02, 𝜉x - t: -1.5388e-02\n",
      "iteration @92 ## alm: -177.0479 norm t - s: -1.5083e-02, 𝜉x - t: -1.5065e-02\n",
      "iteration @93 ## alm: -177.0474 norm t - s: -1.4778e-02, 𝜉x - t: -1.4740e-02\n",
      "iteration @94 ## alm: -177.0470 norm t - s: -1.4466e-02, 𝜉x - t: -1.4430e-02\n",
      "iteration @95 ## alm: -177.0466 norm t - s: -1.4160e-02, 𝜉x - t: -1.4121e-02\n",
      "iteration @96 ## alm: -177.0462 norm t - s: -1.3874e-02, 𝜉x - t: -1.3901e-02\n",
      "iteration @97 ## alm: -177.0458 norm t - s: -1.3609e-02, 𝜉x - t: -1.3564e-02\n",
      "iteration @98 ## alm: -177.0455 norm t - s: -1.3310e-02, 𝜉x - t: -1.3270e-02\n",
      "iteration @99 ## alm: -177.0451 norm t - s: -1.3038e-02, 𝜉x - t: -1.3055e-02\n",
      "iteration @100 ## alm: -177.0448 norm t - s: -1.2779e-02, 𝜉x - t: -1.2732e-02\n"
     ]
    }
   ],
   "source": [
    "# test run\n",
    "max_iter = 100\n",
    "_iter = 0\n",
    "while True:\n",
    "  _iter += 1\n",
    "  r = pyadm.msc_subproblem_x(\n",
    "    sval, xival, kappa, mu, rho, qp1, bd, solve=False, verbose=False\n",
    "  )\n",
    "  r.solve()\n",
    "  xval = r.xval\n",
    "  tval = r.tvar.level()[0]\n",
    "  r_xi = pyadm.msc_subproblem_xi(\n",
    "    xval, tval, kappa, mu, rho, qp1, bd, solve=False, verbose=False\n",
    "  )\n",
    "  r_xi.problem.solve()\n",
    "  sval = r_xi.svar.level()[0]\n",
    "  xival = r_xi.xivar.level().reshape(r_xi.xivar.getShape())\n",
    "  residual_ts = tval - sval\n",
    "  residual_xix = (xival * xval).sum() - tval\n",
    "  print(\n",
    "    f\"iteration @{_iter} ## alm: {r.problem.primalObjValue(): .4f} norm t - s: {residual_ts: .4e}, 𝜉x - t: {residual_xix: .4e}\"\n",
    "  )\n",
    "  if max(abs(residual_ts), abs(residual_xix)) < 1e-4:\n",
    "    break\n",
    "  kappa += residual_ts * rho\n",
    "  mu += residual_xix * rho\n",
    "  if _iter >= max_iter:\n",
    "    break"
   ]
  },
  {
   "cell_type": "code",
   "execution_count": 45,
   "metadata": {},
   "outputs": [
    {
     "data": {
      "text/plain": [
       "(array([[ 1.    ],\n",
       "        [ 1.    ],\n",
       "        [-0.    ],\n",
       "        [-0.    ],\n",
       "        [ 1.    ],\n",
       "        [ 1.    ],\n",
       "        [ 1.    ],\n",
       "        [ 0.    ],\n",
       "        [-0.    ],\n",
       "        [ 1.    ],\n",
       "        [-0.    ],\n",
       "        [ 0.9404],\n",
       "        [ 1.    ],\n",
       "        [-0.    ],\n",
       "        [ 0.    ],\n",
       "        [-0.    ],\n",
       "        [ 1.    ],\n",
       "        [ 0.    ],\n",
       "        [ 0.    ],\n",
       "        [ 1.    ],\n",
       "        [ 1.    ],\n",
       "        [ 1.    ],\n",
       "        [-0.    ],\n",
       "        [ 1.    ],\n",
       "        [-0.    ],\n",
       "        [-0.    ],\n",
       "        [ 0.    ],\n",
       "        [ 1.    ],\n",
       "        [-0.    ],\n",
       "        [-0.    ],\n",
       "        [ 1.    ],\n",
       "        [-0.    ],\n",
       "        [ 0.    ],\n",
       "        [-0.    ],\n",
       "        [-0.    ],\n",
       "        [ 1.    ],\n",
       "        [ 0.    ],\n",
       "        [ 0.    ],\n",
       "        [ 1.    ],\n",
       "        [ 0.9979],\n",
       "        [-0.    ],\n",
       "        [-0.    ],\n",
       "        [ 0.    ],\n",
       "        [-0.    ],\n",
       "        [-0.    ],\n",
       "        [ 1.    ],\n",
       "        [-0.    ],\n",
       "        [ 1.    ],\n",
       "        [ 1.    ],\n",
       "        [-0.    ]]),\n",
       " -177.04478547486394)"
      ]
     },
     "execution_count": 45,
     "metadata": {},
     "output_type": "execute_result"
    }
   ],
   "source": [
    "r.xval, r.problem.primalObjValue()"
   ]
  },
  {
   "cell_type": "code",
   "execution_count": 46,
   "metadata": {},
   "outputs": [
    {
     "data": {
      "text/plain": [
       "array([[ 0.    ],\n",
       "       [ 0.    ],\n",
       "       [ 0.    ],\n",
       "       [ 0.    ],\n",
       "       [ 0.    ],\n",
       "       [ 0.    ],\n",
       "       [-1.    ],\n",
       "       [ 0.    ],\n",
       "       [ 0.    ],\n",
       "       [ 0.    ],\n",
       "       [ 0.    ],\n",
       "       [ 0.0596],\n",
       "       [ 0.    ],\n",
       "       [ 0.    ],\n",
       "       [ 0.    ],\n",
       "       [ 0.    ],\n",
       "       [ 0.    ],\n",
       "       [ 0.    ],\n",
       "       [ 0.    ],\n",
       "       [ 0.    ],\n",
       "       [ 0.    ],\n",
       "       [ 0.    ],\n",
       "       [ 0.    ],\n",
       "       [ 0.    ],\n",
       "       [ 0.    ],\n",
       "       [ 0.    ],\n",
       "       [ 0.    ],\n",
       "       [ 0.    ],\n",
       "       [ 0.    ],\n",
       "       [ 0.    ],\n",
       "       [ 0.    ],\n",
       "       [ 0.    ],\n",
       "       [ 0.    ],\n",
       "       [ 0.    ],\n",
       "       [ 0.    ],\n",
       "       [ 0.    ],\n",
       "       [ 1.    ],\n",
       "       [-0.    ],\n",
       "       [ 0.    ],\n",
       "       [ 0.0021],\n",
       "       [ 0.    ],\n",
       "       [ 0.    ],\n",
       "       [ 0.0836],\n",
       "       [ 0.    ],\n",
       "       [ 0.    ],\n",
       "       [ 0.    ],\n",
       "       [ 0.    ],\n",
       "       [ 0.    ],\n",
       "       [ 0.    ],\n",
       "       [ 0.    ]])"
      ]
     },
     "execution_count": 46,
     "metadata": {},
     "output_type": "execute_result"
    }
   ],
   "source": [
    "results['grb'].xval - r.xval"
   ]
  }
 ],
 "metadata": {
  "interpreter": {
   "hash": "884edbe1032b0398cafbe917f21b5b3af1b7b0540779d02fef0066663e75f195"
  },
  "kernelspec": {
   "display_name": "Python 3.7.9 64-bit ('base': conda)",
   "name": "python3"
  },
  "language_info": {
   "codemirror_mode": {
    "name": "ipython",
    "version": 3
   },
   "file_extension": ".py",
   "mimetype": "text/x-python",
   "name": "python",
   "nbconvert_exporter": "python",
   "pygments_lexer": "ipython3",
   "version": "3.7.9"
  }
 },
 "nbformat": 4,
 "nbformat_minor": 5
}
