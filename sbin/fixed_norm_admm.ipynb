{
 "cells": [
  {
   "cell_type": "code",
   "execution_count": 1,
   "id": "opponent-nutrition",
   "metadata": {
    "execution": {
     "iopub.execute_input": "2021-10-20T12:31:06.604287Z",
     "iopub.status.busy": "2021-10-20T12:31:06.604107Z",
     "iopub.status.idle": "2021-10-20T12:31:06.607985Z",
     "shell.execute_reply": "2021-10-20T12:31:06.607548Z",
     "shell.execute_reply.started": "2021-10-20T12:31:06.604267Z"
    }
   },
   "outputs": [
    {
     "name": "stdout",
     "output_type": "stream",
     "text": [
      "/Users/brent/Archiver/Workspace/qcqp/src\n"
     ]
    }
   ],
   "source": [
    "cd ../src/"
   ]
  },
  {
   "cell_type": "code",
   "execution_count": 7,
   "id": "bulgarian-newton",
   "metadata": {
    "execution": {
     "iopub.execute_input": "2021-10-20T12:31:36.844968Z",
     "iopub.status.busy": "2021-10-20T12:31:36.844803Z",
     "iopub.status.idle": "2021-10-20T12:31:36.857524Z",
     "shell.execute_reply": "2021-10-20T12:31:36.856559Z",
     "shell.execute_reply.started": "2021-10-20T12:31:36.844951Z"
    }
   },
   "outputs": [
    {
     "data": {
      "text/plain": [
       "_StoreAction(option_strings=['-f'], dest='f', nargs=None, const=None, default=0, type=<class 'str'>, choices=None, help='backend used, rank reduction', metavar=None)"
      ]
     },
     "execution_count": 7,
     "metadata": {},
     "output_type": "execute_result"
    }
   ],
   "source": [
    "import collections\n",
    "\n",
    "\n",
    "import numpy as np\n",
    "import pandas as pd\n",
    "\n",
    "###########\n",
    "# display options\n",
    "###########\n",
    "\n",
    "\n",
    "pd.set_option(\"display.max_columns\", None)\n",
    "np.set_printoptions(\n",
    "  linewidth=200,\n",
    "  precision=4\n",
    ")\n",
    "\n",
    "from pyqp import bg_grb, bg_msk, bg_msk_msc, bg_msk_chordal, bg_msk_homo\n",
    "from pyqp import bb_msc, bb, bb_diag, bb_socp\n",
    "from pyqp.classes import QP, QPI, Bounds, BCParams\n",
    "import argparse\n",
    "import json\n",
    "\n",
    "METHODS = collections.OrderedDict([\n",
    "  (\"grb\", bg_grb.qp_gurobi),\n",
    "  (\"shor\", bg_msk.shor),\n",
    "  (\"dshor\", bg_msk.dshor),\n",
    "  (\"msc\", bg_msk_msc.msc),\n",
    "  (\"emsc\", bg_msk_msc.msc_diag),\n",
    "  (\"ssdp\", bg_msk_chordal.ssdp),\n",
    "  (\"bb\", bb.bb_box),\n",
    "  (\"bb_msc\", bb_diag.bb_box),\n",
    "  (\"shor_homo\", bg_msk_homo.shor)\n",
    "])\n",
    "\n",
    "\n",
    "METHOD_CODES = {\n",
    "  idx + 1: m\n",
    "  for idx, m in enumerate(METHODS)\n",
    "}\n",
    "\n",
    "METHOD_HELP_MSGS = {\n",
    "  k: bg_msk.dshor.__doc__\n",
    "  for k, v in METHODS.items()\n",
    "}\n",
    "\n",
    "parser = argparse.ArgumentParser(\"QCQP runner\")\n",
    "parser.add_argument(\"--dump_instance\", type=int, help=\"if save instance\", default=1)\n",
    "parser.add_argument(\"--r\", type=str, help=METHOD_CODES.__str__(), default=\"1,2,7\")\n",
    "parser.add_argument(\"--fpath\", type=str, help=\"path of the instance\")\n",
    "parser.add_argument(\"--n\", type=int, help=\"dim of x\", default=5)\n",
    "parser.add_argument(\"--m\", type=int, help=\"if randomly generated num of constraints\", default=5)\n",
    "parser.add_argument(\"--pc\", type=str, help=\"if randomly generated problem type\", default=5)\n",
    "parser.add_argument(\"--time_limit\", default=60, type=int, help=\"time limit of running.\")\n",
    "parser.add_argument(\"--verbose\", default=0, type=int, help=\"if verbose\")\n",
    "parser.add_argument(\"--bg\", default='msk', type=str, help=\"backend used\")\n",
    "parser.add_argument(\"--bg_rd\", default=0, type=int, help=\"backend used, rank reduction\")\n",
    "parser.add_argument(\"-f\", default=0, type=str, help=\"backend used, rank reduction\")\n"
   ]
  },
  {
   "cell_type": "code",
   "execution_count": 3,
   "id": "growing-schedule",
   "metadata": {
    "execution": {
     "iopub.execute_input": "2021-10-20T12:31:10.145329Z",
     "iopub.status.busy": "2021-10-20T12:31:10.145163Z",
     "iopub.status.idle": "2021-10-20T12:31:10.149355Z",
     "shell.execute_reply": "2021-10-20T12:31:10.148658Z",
     "shell.execute_reply.started": "2021-10-20T12:31:10.145310Z"
    }
   },
   "outputs": [
    {
     "name": "stdout",
     "output_type": "stream",
     "text": [
      "usage: QCQP runner [-h] [--dump_instance DUMP_INSTANCE] [--r R]\n",
      "                   [--fpath FPATH] [--n N] [--m M] [--pc PC]\n",
      "                   [--time_limit TIME_LIMIT] [--verbose VERBOSE] [--bg BG]\n",
      "                   [--bg_rd BG_RD] [-f F]\n",
      "usage: QCQP runner [-h] [--dump_instance DUMP_INSTANCE] [--r R]\n",
      "                   [--fpath FPATH] [--n N] [--m M] [--pc PC]\n",
      "                   [--time_limit TIME_LIMIT] [--verbose VERBOSE] [--bg BG]\n",
      "                   [--bg_rd BG_RD] [-f F]\n"
     ]
    }
   ],
   "source": [
    "parser.print_usage()\n",
    "args = parser.parse_args()\n",
    "params = BCParams()\n",
    "kwargs, r_methods = params.produce_args(parser, METHOD_CODES)"
   ]
  },
  {
   "cell_type": "code",
   "execution_count": 8,
   "id": "structured-identity",
   "metadata": {
    "execution": {
     "iopub.execute_input": "2021-10-20T12:31:43.056718Z",
     "iopub.status.busy": "2021-10-20T12:31:43.056548Z",
     "iopub.status.idle": "2021-10-20T12:31:43.059183Z",
     "shell.execute_reply": "2021-10-20T12:31:43.058650Z",
     "shell.execute_reply.started": "2021-10-20T12:31:43.056699Z"
    }
   },
   "outputs": [],
   "source": [
    "r_methods = {'bb', 'grb', 'bb_msc'}"
   ]
  },
  {
   "cell_type": "code",
   "execution_count": 5,
   "id": "suffering-census",
   "metadata": {
    "execution": {
     "iopub.execute_input": "2021-10-20T12:31:12.658466Z",
     "iopub.status.busy": "2021-10-20T12:31:12.658301Z",
     "iopub.status.idle": "2021-10-20T12:31:12.665333Z",
     "shell.execute_reply": "2021-10-20T12:31:12.664758Z",
     "shell.execute_reply.started": "2021-10-20T12:31:12.658448Z"
    }
   },
   "outputs": [],
   "source": [
    "n, m = 10, 2\n",
    "# problem\n",
    "problem_id = f\"{n}:{m}:{0}\"\n",
    "# start\n",
    "# qp = QPI.block(n, m, r=2, eps=0.5)\n",
    "qp = QPI.normal(int(n), int(m), rho=0.2)\n",
    "bd = Bounds(xlb=np.zeros(shape=(n, 1)), xub=np.ones(shape=(n, 1)))"
   ]
  },
  {
   "cell_type": "markdown",
   "id": "humanitarian-roulette",
   "metadata": {},
   "source": [
    "# benchmarking"
   ]
  },
  {
   "cell_type": "code",
   "execution_count": 9,
   "id": "informational-developer",
   "metadata": {
    "execution": {
     "iopub.execute_input": "2021-10-20T12:31:46.103305Z",
     "iopub.status.busy": "2021-10-20T12:31:46.103129Z",
     "iopub.status.idle": "2021-10-20T12:32:46.604859Z",
     "shell.execute_reply": "2021-10-20T12:32:46.604285Z",
     "shell.execute_reply.started": "2021-10-20T12:31:46.103287Z"
    },
    "scrolled": true
   },
   "outputs": [
    {
     "name": "stdout",
     "output_type": "stream",
     "text": [
      "Using license file /Users/brent/licenses/gurobi.lic\n",
      "Parameter OutputFlag unchanged\n",
      "   Value: 1  Min: 0  Max: 1  Default: 1\n",
      "Changed value of parameter NonConvex to 2\n",
      "   Prev: -1  Min: -1  Max: 2  Default: -1\n",
      "Changed value of parameter TimeLimit to 60.0\n",
      "   Prev: inf  Min: 0.0  Max: inf  Default: inf\n",
      "Changed value of parameter Threads to 1\n",
      "   Prev: 0  Min: 0  Max: 1024  Default: 0\n",
      "Gurobi Optimizer version 9.1.0 build v9.1.0rc0 (mac64)\n",
      "Thread count: 6 physical cores, 12 logical processors, using up to 1 threads\n",
      "Optimize a model with 0 rows, 10 columns and 0 nonzeros\n",
      "Model fingerprint: 0x468b86cb\n",
      "Model has 26 quadratic objective terms\n",
      "Model has 2 quadratic constraints\n",
      "Coefficient statistics:\n",
      "  Matrix range     [0e+00, 0e+00]\n",
      "  QMatrix range    [1e+00, 3e+01]\n",
      "  QLMatrix range   [1e+00, 4e+00]\n",
      "  Objective range  [1e+00, 4e+00]\n",
      "  QObjective range [2e+00, 2e+01]\n",
      "  Bounds range     [1e+00, 1e+00]\n",
      "  RHS range        [0e+00, 0e+00]\n",
      "  QRHS range       [3e+01, 3e+01]\n",
      "\n",
      "Continuous model is non-convex -- solving as a MIP.\n",
      "\n",
      "Found heuristic solution: objective -0.0000000\n",
      "Presolve time: 0.00s\n",
      "Presolved: 161 rows, 66 columns, 458 nonzeros\n",
      "Presolved model has 2 quadratic constraint(s)\n",
      "Presolved model has 53 bilinear constraint(s)\n",
      "Variable types: 66 continuous, 0 integer (0 binary)\n",
      "\n",
      "Root relaxation: objective 3.200000e+01, 53 iterations, 0.00 seconds\n",
      "\n",
      "    Nodes    |    Current Node    |     Objective Bounds      |     Work\n",
      " Expl Unexpl |  Obj  Depth IntInf | Incumbent    BestBd   Gap | It/Node Time\n",
      "\n",
      "*    0     0               0      31.0625000   31.06250  0.00%     -    0s\n",
      "\n",
      "Explored 0 nodes (63 simplex iterations) in 0.02 seconds\n",
      "Thread count was 1 (of 12 available processors)\n",
      "\n",
      "Solution count 2: 31.0625 -0 \n",
      "\n",
      "Optimal solution found (tolerance 1.00e-04)\n",
      "Best objective 3.106249618530e+01, best bound 3.106250000000e+01, gap 0.0000%\n",
      "{\n",
      "  \"feas_eps\": 0.001,\n",
      "  \"opt_eps\": 0.0005,\n",
      "  \"time_limit\": 60\n",
      "}\n",
      "primal func using 0\n",
      "solving root node\n",
      "Problem\n",
      "  Name                   : shor_msk        \n",
      "  Objective sense        : max             \n",
      "  Type                   : CONIC (conic optimization problem)\n",
      "  Constraints            : 13              \n",
      "  Cones                  : 0               \n",
      "  Scalar variables       : 1               \n",
      "  Matrix variables       : 1               \n",
      "  Integer variables      : 0               \n",
      "\n",
      "Optimizer started.\n",
      "MOSEK warning 950: No automatic dualizer is available for the specified problem.\n",
      "Presolve started.\n",
      "Linear dependency checker started.\n",
      "Linear dependency checker terminated.\n",
      "Eliminator started.\n",
      "Freed constraints in eliminator : 0\n",
      "Eliminator terminated.\n",
      "Eliminator - tries                  : 1                 time                   : 0.00            \n",
      "Lin. dep.  - tries                  : 1                 time                   : 0.00            \n",
      "Lin. dep.  - number                 : 0               \n",
      "Presolve terminated. Time: 0.00    \n",
      "Problem\n",
      "  Name                   : shor_msk        \n",
      "  Objective sense        : max             \n",
      "  Type                   : CONIC (conic optimization problem)\n",
      "  Constraints            : 13              \n",
      "  Cones                  : 0               \n",
      "  Scalar variables       : 1               \n",
      "  Matrix variables       : 1               \n",
      "  Integer variables      : 0               \n",
      "\n",
      "Optimizer  - threads                : 12              \n",
      "Optimizer  - solved problem         : the primal      \n",
      "Optimizer  - Constraints            : 13\n",
      "Optimizer  - Cones                  : 0\n",
      "Optimizer  - Scalar variables       : 12                conic                  : 0               \n",
      "Optimizer  - Semi-definite variables: 1                 scalarized             : 66              \n",
      "Factor     - setup time             : 0.00              dense det. time        : 0.00            \n",
      "Factor     - ML order time          : 0.00              GP order time          : 0.00            \n",
      "Factor     - nonzeros before factor : 91                after factor           : 91              \n",
      "Factor     - dense dim.             : 0                 flops                  : 1.24e+04        \n",
      "ITE PFEAS    DFEAS    GFEAS    PRSTATUS   POBJ              DOBJ              MU       TIME  \n",
      "0   1.9e+00  6.0e+00  1.0e+00  0.00e+00   0.000000000e+00   0.000000000e+00   1.0e+00  0.01  \n",
      "1   5.9e-01  1.9e+00  5.5e-01  -1.03e+00  8.309133513e+00   6.193032644e+00   3.1e-01  0.01  \n",
      "2   1.2e-01  3.8e-01  1.4e-01  -6.76e-01  3.414309669e+01   2.928685745e+01   6.3e-02  0.02  \n",
      "3   2.3e-02  7.3e-02  1.3e-02  5.16e-01   3.202599592e+01   3.094934623e+01   1.2e-02  0.02  \n",
      "4   5.0e-03  1.6e-02  1.4e-03  9.19e-01   3.123864382e+01   3.100599411e+01   2.7e-03  0.02  \n",
      "5   1.4e-03  4.4e-03  1.9e-04  9.92e-01   3.105140299e+01   3.098924670e+01   7.3e-04  0.02  \n",
      "6   3.0e-04  9.5e-04  1.9e-05  1.00e+00   3.106905161e+01   3.105592925e+01   1.6e-04  0.02  \n",
      "7   1.4e-05  4.6e-05  2.0e-07  1.00e+00   3.106259363e+01   3.106196152e+01   7.7e-06  0.02  \n",
      "8   1.5e-07  4.7e-07  2.1e-10  1.00e+00   3.106249899e+01   3.106249264e+01   7.8e-08  0.03  \n",
      "9   1.9e-08  6.1e-08  9.8e-12  1.00e+00   3.106249973e+01   3.106249890e+01   1.0e-08  0.03  \n",
      "10  2.4e-09  7.5e-09  4.3e-13  1.00e+00   3.106249993e+01   3.106249983e+01   1.3e-09  0.03  \n",
      "Optimizer terminated. Time: 0.03    \n",
      "\n",
      "\n",
      "Interior-point solution summary\n",
      "  Problem status  : PRIMAL_AND_DUAL_FEASIBLE\n",
      "  Solution status : OPTIMAL\n",
      "  Primal.  obj: 3.1062499932e+01    nrm: 4e+01    Viol.  con: 7e-07    var: 0e+00    barvar: 0e+00  \n",
      "  Dual.    obj: 3.1062499829e+01    nrm: 3e+01    Viol.  con: 4e-15    var: 0e+00    barvar: 7e-08  \n",
      "0.009550094604492188 0.05796217918395996 0.0335850715637207\n",
      "time:  0.03 #0, depth: 0, feas: 8.584e-08, obj: 31.0625, sdp_obj: 31.0625, gap:0.0000% ([ 31.06, 31.06]\n",
      "terminate #0 by gap or time_limit\n",
      "{\n",
      "  \"feas_eps\": 0.001,\n",
      "  \"opt_eps\": 0.0005,\n",
      "  \"time_limit\": 60\n",
      "}\n",
      "Solving root node\n",
      "Problem\n",
      "  Name                   : many_small_cone_msk\n",
      "  Objective sense        : max             \n",
      "  Type                   : CONIC (conic optimization problem)\n",
      "  Constraints            : 65              \n",
      "  Cones                  : 0               \n",
      "  Scalar variables       : 11              \n",
      "  Matrix variables       : 30              \n",
      "  Integer variables      : 0               \n",
      "\n",
      "Optimizer started.\n",
      "Presolve started.\n",
      "Linear dependency checker started.\n",
      "Linear dependency checker terminated.\n",
      "Eliminator started.\n",
      "Freed constraints in eliminator : 0\n",
      "Eliminator terminated.\n",
      "Eliminator - tries                  : 1                 time                   : 0.00            \n",
      "Lin. dep.  - tries                  : 1                 time                   : 0.00            \n",
      "Lin. dep.  - number                 : 0               \n",
      "Presolve terminated. Time: 0.00    \n",
      "Problem\n",
      "  Name                   : many_small_cone_msk\n",
      "  Objective sense        : max             \n",
      "  Type                   : CONIC (conic optimization problem)\n",
      "  Constraints            : 65              \n",
      "  Cones                  : 0               \n",
      "  Scalar variables       : 11              \n",
      "  Matrix variables       : 30              \n",
      "  Integer variables      : 0               \n",
      "\n",
      "Optimizer  - threads                : 12              \n",
      "Optimizer  - solved problem         : the primal      \n",
      "Optimizer  - Constraints            : 65\n",
      "Optimizer  - Cones                  : 30\n",
      "Optimizer  - Scalar variables       : 105               conic                  : 90              \n",
      "Optimizer  - Semi-definite variables: 0                 scalarized             : 0               \n",
      "Factor     - setup time             : 0.00              dense det. time        : 0.00            \n",
      "Factor     - ML order time          : 0.00              GP order time          : 0.00            \n",
      "Factor     - nonzeros before factor : 736               after factor           : 931             \n",
      "Factor     - dense dim.             : 0                 flops                  : 2.53e+04        \n",
      "ITE PFEAS    DFEAS    GFEAS    PRSTATUS   POBJ              DOBJ              MU       TIME  \n",
      "0   7.1e+00  1.1e+01  1.0e+00  0.00e+00   2.664535259e-15   0.000000000e+00   1.0e+00  0.00  \n",
      "1   3.0e+00  4.5e+00  5.5e-01  -8.12e-01  3.479791628e+01   3.390557610e+01   4.2e-01  0.01  \n",
      "2   1.4e+00  2.2e+00  2.5e-01  -4.11e-01  4.672195861e+01   4.577416756e+01   2.0e-01  0.01  \n",
      "3   3.9e-01  5.8e-01  2.7e-02  5.12e-01   3.363619168e+01   3.354525473e+01   5.4e-02  0.01  \n",
      "4   1.2e-01  1.8e-01  4.7e-03  9.12e-01   3.533513940e+01   3.530317696e+01   1.7e-02  0.01  \n",
      "5   4.7e-02  7.1e-02  1.3e-03  1.02e+00   3.519263652e+01   3.517374544e+01   6.6e-03  0.02  \n",
      "6   1.5e-02  2.3e-02  2.5e-04  1.02e+00   3.490840483e+01   3.490019984e+01   2.1e-03  0.02  \n",
      "7   4.3e-03  6.4e-03  4.0e-05  1.01e+00   3.476272107e+01   3.476003772e+01   6.0e-04  0.02  \n",
      "8   9.1e-04  1.4e-03  4.0e-06  1.00e+00   3.470265446e+01   3.470206093e+01   1.3e-04  0.02  \n",
      "9   9.2e-05  1.4e-04  1.3e-07  1.00e+00   3.468848648e+01   3.468842265e+01   1.3e-05  0.02  \n",
      "10  5.8e-06  8.8e-06  2.1e-09  1.00e+00   3.468676173e+01   3.468675766e+01   8.2e-07  0.02  \n",
      "11  1.2e-07  1.8e-07  5.9e-12  1.00e+00   3.468664919e+01   3.468664911e+01   1.7e-08  0.02  \n",
      "12  1.2e-08  1.7e-08  1.8e-13  1.00e+00   3.468664711e+01   3.468664710e+01   1.6e-09  0.02  \n",
      "13  1.3e-09  1.9e-09  6.7e-15  1.00e+00   3.468664690e+01   3.468664690e+01   1.8e-10  0.02  \n",
      "Optimizer terminated. Time: 0.03    \n",
      "\n",
      "\n",
      "Interior-point solution summary\n",
      "  Problem status  : PRIMAL_AND_DUAL_FEASIBLE\n",
      "  Solution status : OPTIMAL\n",
      "  Primal.  obj: 3.4686646903e+01    nrm: 7e+01    Viol.  con: 3e-08    var: 5e-12    barvar: 0e+00  \n",
      "  Dual.    obj: 3.4686646902e+01    nrm: 2e+01    Viol.  con: 2e-15    var: 2e-09    barvar: 5e-09  \n",
      "time:  0.03 #0, depth: 0, feas: 8.005e-01 feasC: 9.141e-02obj: 0.0000, sdp_obj: 34.6866, gap:3468664.6903% ([ 0.00, 34.69]\n",
      "time:  0.60 #16, depth: 4, feas: 7.765e-02 feasC: 1.232e-02obj: 0.0000, sdp_obj: 31.4528, gap:3148743.1157% ([ 0.00, 31.49]\n",
      "time:  1.17 #20, depth: 5, feas: 1.095e-01 feasC: 1.433e-02obj: 0.0000, sdp_obj: 31.1902, gap:3131582.3870% ([ 0.00, 31.32]\n",
      "time:  1.85 #36, depth: 4, feas: 2.275e-01 feasC: 4.844e-02obj: 0.0000, sdp_obj: 31.1878, gap:3126595.9972% ([ 0.00, 31.27]\n",
      "time:  2.44 #52, depth: 7, feas: 1.132e-02 feasC: 1.132e-02obj: 0.0000, sdp_obj: 31.0845, gap:3122670.8803% ([ 0.00, 31.23]\n",
      "time:  3.02 #74, depth: 7, feas: 1.998e-02 feasC: 1.998e-02obj: 0.0000, sdp_obj: 31.0323, gap:3116748.3356% ([ 0.00, 31.17]\n",
      "time:  3.66 #118, depth: 9, feas: 2.384e-02 feasC: 4.169e-03obj: 0.0000, sdp_obj: 31.0730, gap:3112110.5049% ([ 0.00, 31.12]\n",
      "time:  4.32 #130, depth: 7, feas: 2.296e-02 feasC: 2.296e-02obj: 0.0000, sdp_obj: 31.1203, gap:3112032.0169% ([ 0.00, 31.12]\n",
      "time:  4.97 #149, depth: 9, feas: 2.584e-02 feasC: 2.584e-02obj: 0.0000, sdp_obj: 31.1203, gap:3112032.0169% ([ 0.00, 31.12]\n",
      "time:  5.60 #174, depth: 12, feas: 3.392e-02 feasC: 3.392e-02obj: 0.0000, sdp_obj: 31.1199, gap:3112032.0169% ([ 0.00, 31.12]\n",
      "time:  6.27 #194, depth: 14, feas: 4.792e-02 feasC: 4.792e-02obj: 0.0000, sdp_obj: 31.1198, gap:3112032.0169% ([ 0.00, 31.12]\n",
      "time:  6.95 #210, depth: 16, feas: 1.923e-02 feasC: 1.923e-02obj: 0.0000, sdp_obj: 31.1195, gap:3112032.0169% ([ 0.00, 31.12]\n",
      "time:  7.71 #234, depth: 19, feas: 2.536e-02 feasC: 2.536e-02obj: 0.0000, sdp_obj: 31.1195, gap:3112032.0169% ([ 0.00, 31.12]\n",
      "time:  8.48 #251, depth: 22, feas: 3.917e-02 feasC: 3.917e-02obj: 0.0000, sdp_obj: 31.1197, gap:3112032.0169% ([ 0.00, 31.12]\n",
      "prune #274 @-1000000.0000 by bound\n",
      "time:  9.29 #216, depth: 17, feas: 2.153e-02 feasC: 2.153e-02obj: 0.0000, sdp_obj: 31.1198, gap:3112032.0169% ([ 0.00, 31.12]\n",
      "time:  10.03 #202, depth: 15, feas: 6.124e-02 feasC: 6.124e-02obj: 0.0000, sdp_obj: 31.1198, gap:3112032.0169% ([ 0.00, 31.12]\n",
      "time:  10.71 #185, depth: 13, feas: 3.872e-02 feasC: 3.872e-02obj: 0.0000, sdp_obj: 31.1200, gap:3112032.0169% ([ 0.00, 31.12]\n",
      "time:  11.37 #171, depth: 11, feas: 2.914e-02 feasC: 2.914e-02obj: 0.0000, sdp_obj: 31.1203, gap:3112032.0169% ([ 0.00, 31.12]\n",
      "time:  12.02 #350, depth: 16, feas: 2.045e-02 feasC: 2.045e-02obj: 0.0000, sdp_obj: 31.1200, gap:3112032.0169% ([ 0.00, 31.12]\n",
      "time:  12.76 #370, depth: 15, feas: 5.974e-02 feasC: 5.974e-02obj: 0.0000, sdp_obj: 31.1199, gap:3112032.0169% ([ 0.00, 31.12]\n",
      "time:  13.48 #397, depth: 18, feas: 2.303e-02 feasC: 2.303e-02obj: 0.0000, sdp_obj: 31.1192, gap:3112032.0169% ([ 0.00, 31.12]\n",
      "time:  14.22 #412, depth: 21, feas: 3.312e-02 feasC: 3.312e-02obj: 0.0000, sdp_obj: 31.1197, gap:3112032.0169% ([ 0.00, 31.12]\n",
      "time:  15.03 #432, depth: 23, feas: 4.807e-02 feasC: 4.807e-02obj: 0.0000, sdp_obj: 31.1197, gap:3112032.0169% ([ 0.00, 31.12]\n",
      "prune #453 @-1000000.0000 by bound\n",
      "time:  15.89 #454, depth: 26, feas: 7.609e-03 feasC: 1.544e-04obj: 30.9809, sdp_obj: 31.0084, gap:0.4481% ([ 30.98, 31.12]\n",
      "time:  16.76 #388, depth: 19, feas: 2.596e-02 feasC: 2.596e-02obj: 0.0000, sdp_obj: 31.1197, gap:0.4481% ([ 30.98, 31.12]\n",
      "time:  17.53 #495, depth: 22, feas: 3.893e-02 feasC: 3.893e-02obj: 0.0000, sdp_obj: 31.1197, gap:0.4481% ([ 30.98, 31.12]\n",
      "prune #514 @-1000000.0000 by bound\n",
      "time:  18.35 #515, depth: 23, feas: 4.897e-02 feasC: 4.897e-02obj: 0.0000, sdp_obj: 31.1196, gap:0.4481% ([ 30.98, 31.12]\n",
      "time:  19.22 #532, depth: 25, feas: 1.712e-02 feasC: 1.960e-04obj: 30.9798, sdp_obj: 31.1187, gap:0.4481% ([ 30.98, 31.12]\n",
      "prune #553 @-1000000.0000 by bound\n",
      "time:  20.15 #554, depth: 25, feas: 1.722e-02 feasC: 1.575e-04obj: 30.9815, sdp_obj: 31.1201, gap:0.4481% ([ 30.98, 31.12]\n",
      "time:  20.99 #391, depth: 17, feas: 2.070e-02 feasC: 2.070e-02obj: 0.0000, sdp_obj: 31.1198, gap:0.4481% ([ 30.98, 31.12]\n",
      "time:  21.78 #588, depth: 20, feas: 2.881e-02 feasC: 2.881e-02obj: 0.0000, sdp_obj: 31.1200, gap:0.4481% ([ 30.98, 31.12]\n",
      "prune #610 @-1000000.0000 by bound\n",
      "prune #612 @-1000000.0000 by bound\n",
      "prune #614 @30.8204 by bound\n",
      "prune #616 @-1000000.0000 by bound\n",
      "time:  22.61 #618, depth: 16, feas: 2.105e-02 feasC: 2.105e-02obj: 0.0000, sdp_obj: 31.1200, gap:0.4481% ([ 30.98, 31.12]\n",
      "time:  23.33 #357, depth: 13, feas: 3.892e-02 feasC: 3.892e-02obj: 0.0000, sdp_obj: 31.1188, gap:0.4481% ([ 30.98, 31.12]\n",
      "time:  24.03 #341, depth: 12, feas: 3.312e-02 feasC: 3.312e-02obj: 0.0000, sdp_obj: 31.1200, gap:0.4481% ([ 30.98, 31.12]\n",
      "time:  24.80 #335, depth: 15, feas: 5.614e-02 feasC: 5.614e-02obj: 0.0000, sdp_obj: 31.1197, gap:0.4481% ([ 30.98, 31.12]\n",
      "time:  25.66 #690, depth: 17, feas: 2.095e-02 feasC: 2.095e-02obj: 0.0000, sdp_obj: 31.1196, gap:0.4481% ([ 30.98, 31.12]\n",
      "time:  26.44 #707, depth: 15, feas: 5.984e-02 feasC: 5.984e-02obj: 0.0000, sdp_obj: 31.1198, gap:0.4481% ([ 30.98, 31.12]\n",
      "time:  27.27 #728, depth: 17, feas: 2.161e-02 feasC: 2.161e-02obj: 0.0000, sdp_obj: 31.1196, gap:0.4481% ([ 30.98, 31.12]\n",
      "time:  27.99 #752, depth: 18, feas: 2.300e-02 feasC: 2.300e-02obj: 0.0000, sdp_obj: 31.1198, gap:0.4481% ([ 30.98, 31.12]\n",
      "time:  28.74 #769, depth: 18, feas: 2.321e-02 feasC: 2.321e-02obj: 0.0000, sdp_obj: 31.1195, gap:0.4481% ([ 30.98, 31.12]\n",
      "time:  29.52 #793, depth: 22, feas: 3.923e-02 feasC: 3.923e-02obj: 0.0000, sdp_obj: 31.1198, gap:0.4481% ([ 30.98, 31.12]\n",
      "time:  30.33 #800, depth: 22, feas: 3.880e-02 feasC: 3.880e-02obj: 0.0000, sdp_obj: 31.1196, gap:0.4481% ([ 30.98, 31.12]\n",
      "time:  31.15 #831, depth: 24, feas: 6.332e-02 feasC: 6.332e-02obj: 0.0000, sdp_obj: 31.1196, gap:0.4481% ([ 30.98, 31.12]\n",
      "time:  32.04 #816, depth: 24, feas: 6.383e-02 feasC: 6.383e-02obj: 0.0000, sdp_obj: 31.1195, gap:0.4481% ([ 30.98, 31.12]\n",
      "time:  32.92 #876, depth: 24, feas: 6.202e-02 feasC: 6.202e-02obj: 0.0000, sdp_obj: 31.1195, gap:0.4481% ([ 30.98, 31.12]\n",
      "time:  33.79 #894, depth: 24, feas: 6.332e-02 feasC: 6.332e-02obj: 0.0000, sdp_obj: 31.1197, gap:0.4481% ([ 30.98, 31.12]\n",
      "time:  34.66 #908, depth: 26, feas: 7.709e-03 feasC: 1.960e-04obj: 30.9814, sdp_obj: 31.0083, gap:0.4481% ([ 30.98, 31.12]\n",
      "time:  35.50 #935, depth: 22, feas: 3.920e-02 feasC: 3.920e-02obj: 0.0000, sdp_obj: 31.1196, gap:0.4481% ([ 30.98, 31.12]\n",
      "prune #956 @-1000000.0000 by bound\n",
      "time:  36.35 #958, depth: 25, feas: 1.712e-02 feasC: 1.960e-04obj: 30.9814, sdp_obj: 31.1195, gap:0.4481% ([ 30.98, 31.12]\n",
      "time:  37.19 #976, depth: 21, feas: 3.260e-02 feasC: 3.260e-02obj: 0.0000, sdp_obj: 31.1196, gap:0.4481% ([ 30.98, 31.12]\n",
      "time:  38.00 #994, depth: 24, feas: 6.342e-02 feasC: 6.342e-02obj: 0.0000, sdp_obj: 31.1195, gap:0.4481% ([ 30.98, 31.12]\n",
      "time:  38.96 #1017, depth: 21, feas: 3.273e-02 feasC: 3.273e-02obj: 0.0000, sdp_obj: 31.1196, gap:0.4481% ([ 30.98, 31.12]\n",
      "time:  39.77 #1033, depth: 24, feas: 5.812e-02 feasC: 5.812e-02obj: 0.0000, sdp_obj: 31.1193, gap:0.4481% ([ 30.98, 31.12]\n",
      "time:  40.62 #1039, depth: 25, feas: 1.712e-02 feasC: 1.960e-04obj: 30.9814, sdp_obj: 31.1196, gap:0.4481% ([ 30.98, 31.12]\n",
      "time:  41.43 #1075, depth: 19, feas: 2.510e-02 feasC: 2.510e-02obj: 0.0000, sdp_obj: 31.1198, gap:0.4481% ([ 30.98, 31.12]\n",
      "time:  42.21 #1093, depth: 22, feas: 3.922e-02 feasC: 3.922e-02obj: 0.0000, sdp_obj: 31.1196, gap:0.4481% ([ 30.98, 31.12]\n",
      "time:  43.04 #1111, depth: 24, feas: 6.323e-02 feasC: 6.323e-02obj: 0.0000, sdp_obj: 31.1196, gap:0.4481% ([ 30.98, 31.12]\n",
      "time:  43.90 #1128, depth: 25, feas: 1.722e-02 feasC: 1.960e-04obj: 30.9815, sdp_obj: 31.1195, gap:0.4481% ([ 30.98, 31.12]\n",
      "time:  44.77 #1155, depth: 25, feas: 1.712e-02 feasC: 1.960e-04obj: 30.9814, sdp_obj: 31.1195, gap:0.4481% ([ 30.98, 31.12]\n",
      "time:  45.60 #1177, depth: 19, feas: 2.566e-02 feasC: 2.566e-02obj: 0.0000, sdp_obj: 31.1195, gap:0.4481% ([ 30.98, 31.12]\n",
      "time:  46.32 #1193, depth: 18, feas: 2.341e-02 feasC: 2.341e-02obj: 0.0000, sdp_obj: 31.1197, gap:0.4481% ([ 30.98, 31.12]\n",
      "time:  47.11 #1210, depth: 20, feas: 2.863e-02 feasC: 2.863e-02obj: 0.0000, sdp_obj: 31.1195, gap:0.4481% ([ 30.98, 31.12]\n",
      "time:  47.88 #726, depth: 15, feas: 6.024e-02 feasC: 6.024e-02obj: 0.0000, sdp_obj: 31.1198, gap:0.4481% ([ 30.98, 31.12]\n",
      "time:  48.60 #1244, depth: 17, feas: 2.113e-02 feasC: 2.113e-02obj: 0.0000, sdp_obj: 31.1198, gap:0.4481% ([ 30.98, 31.12]\n",
      "time:  49.30 #325, depth: 18, feas: 2.276e-02 feasC: 2.276e-02obj: 0.0000, sdp_obj: 31.1192, gap:0.4481% ([ 30.98, 31.12]\n",
      "time:  49.99 #1286, depth: 17, feas: 2.163e-02 feasC: 2.163e-02obj: 0.0000, sdp_obj: 31.1198, gap:0.4481% ([ 30.98, 31.12]\n",
      "time:  50.70 #1302, depth: 18, feas: 2.380e-02 feasC: 2.380e-02obj: 0.0000, sdp_obj: 31.1195, gap:0.4481% ([ 30.98, 31.12]\n",
      "time:  51.43 #1328, depth: 16, feas: 1.913e-02 feasC: 1.913e-02obj: 0.0000, sdp_obj: 31.1199, gap:0.4481% ([ 30.98, 31.12]\n",
      "time:  52.15 #1343, depth: 15, feas: 5.784e-02 feasC: 5.784e-02obj: 0.0000, sdp_obj: 31.1198, gap:0.4481% ([ 30.98, 31.12]\n",
      "time:  52.86 #1362, depth: 16, feas: 2.045e-02 feasC: 2.045e-02obj: 0.0000, sdp_obj: 31.1198, gap:0.4481% ([ 30.98, 31.12]\n",
      "time:  53.78 #1390, depth: 17, feas: 1.995e-02 feasC: 1.995e-02obj: 0.0000, sdp_obj: 31.1193, gap:0.4481% ([ 30.98, 31.12]\n",
      "time:  54.60 #309, depth: 20, feas: 2.855e-02 feasC: 2.855e-02obj: 0.0000, sdp_obj: 31.1195, gap:0.4481% ([ 30.98, 31.12]\n",
      "prune #1430 @-1000000.0000 by bound\n",
      "time:  55.41 #1431, depth: 17, feas: 2.010e-02 feasC: 2.010e-02obj: 0.0000, sdp_obj: 31.1197, gap:0.4481% ([ 30.98, 31.12]\n",
      "time:  56.18 #1446, depth: 18, feas: 2.253e-02 feasC: 2.253e-02obj: 0.0000, sdp_obj: 31.1195, gap:0.4481% ([ 30.98, 31.12]\n",
      "time:  56.98 #1467, depth: 20, feas: 2.872e-02 feasC: 2.872e-02obj: 0.0000, sdp_obj: 31.1195, gap:0.4481% ([ 30.98, 31.12]\n",
      "time:  57.77 #1491, depth: 22, feas: 3.951e-02 feasC: 3.951e-02obj: 0.0000, sdp_obj: 31.1195, gap:0.4481% ([ 30.98, 31.12]\n",
      "time:  58.65 #1510, depth: 24, feas: 6.372e-02 feasC: 6.372e-02obj: 0.0000, sdp_obj: 31.1195, gap:0.4481% ([ 30.98, 31.12]\n",
      "time:  59.52 #1537, depth: 21, feas: 3.261e-02 feasC: 3.261e-02obj: 0.0000, sdp_obj: 31.1198, gap:0.4481% ([ 30.98, 31.12]\n",
      "time:  60.36 #1556, depth: 25, feas: 1.722e-02 feasC: 1.960e-04obj: 30.9815, sdp_obj: 31.1193, gap:0.4481% ([ 30.98, 31.12]\n",
      "terminate #1556 by gap or time_limit\n"
     ]
    }
   ],
   "source": [
    "evals = []\n",
    "results = {}\n",
    "# run methods\n",
    "for k in r_methods:\n",
    "  func = METHODS[k]\n",
    "  qp1 = bb_msc.QP(*qp.unpack())\n",
    "  qp1.decompose()\n",
    "  r = func(qp1, bd, params=params)\n",
    "  reval = r.eval(problem_id)\n",
    "  evals.append({**reval.__dict__, \"method\": k})\n",
    "  results[k] = r"
   ]
  },
  {
   "cell_type": "code",
   "execution_count": 11,
   "id": "funded-match",
   "metadata": {
    "execution": {
     "iopub.execute_input": "2021-10-20T12:32:57.780354Z",
     "iopub.status.busy": "2021-10-20T12:32:57.780155Z",
     "iopub.status.idle": "2021-10-20T12:32:57.784436Z",
     "shell.execute_reply": "2021-10-20T12:32:57.783980Z",
     "shell.execute_reply.started": "2021-10-20T12:32:57.780322Z"
    }
   },
   "outputs": [
    {
     "data": {
      "text/plain": [
       "(array([[0.   ],\n",
       "        [0.124],\n",
       "        [1.   ],\n",
       "        [1.   ],\n",
       "        [0.   ],\n",
       "        [0.   ],\n",
       "        [1.   ],\n",
       "        [1.   ],\n",
       "        [0.   ],\n",
       "        [1.   ]]),\n",
       " array([[-0.  ],\n",
       "        [ 0.27],\n",
       "        [ 1.  ],\n",
       "        [ 1.  ],\n",
       "        [-0.  ],\n",
       "        [-0.  ],\n",
       "        [ 1.  ],\n",
       "        [ 1.  ],\n",
       "        [-0.  ],\n",
       "        [ 1.  ]]))"
      ]
     },
     "execution_count": 11,
     "metadata": {},
     "output_type": "execute_result"
    }
   ],
   "source": [
    "results['grb'].xval, results['bb_msc'].xval.round(2)"
   ]
  },
  {
   "cell_type": "code",
   "execution_count": 12,
   "id": "internal-ground",
   "metadata": {
    "execution": {
     "iopub.execute_input": "2021-10-20T12:33:05.032487Z",
     "iopub.status.busy": "2021-10-20T12:33:05.032317Z",
     "iopub.status.idle": "2021-10-20T12:33:05.035191Z",
     "shell.execute_reply": "2021-10-20T12:33:05.034693Z",
     "shell.execute_reply.started": "2021-10-20T12:33:05.032469Z"
    }
   },
   "outputs": [
    {
     "name": "stdout",
     "output_type": "stream",
     "text": [
      "grb benchmark @31.062496185302734\n",
      "bb benchmark @31.062499931943485\n",
      "bb_msc benchmark @31.119824257337324\n"
     ]
    }
   ],
   "source": [
    "for k, r in results.items():\n",
    "  print(f\"{k} benchmark @{r.relax_obj}\")\n",
    "  r.check(qp)"
   ]
  },
  {
   "cell_type": "code",
   "execution_count": 13,
   "id": "coated-drink",
   "metadata": {
    "execution": {
     "iopub.execute_input": "2021-10-20T12:33:07.497606Z",
     "iopub.status.busy": "2021-10-20T12:33:07.497439Z",
     "iopub.status.idle": "2021-10-20T12:33:07.500837Z",
     "shell.execute_reply": "2021-10-20T12:33:07.500309Z",
     "shell.execute_reply.started": "2021-10-20T12:33:07.497588Z"
    }
   },
   "outputs": [
    {
     "data": {
      "text/plain": [
       "array([[0.   ],\n",
       "       [0.124],\n",
       "       [1.   ],\n",
       "       [1.   ],\n",
       "       [0.   ],\n",
       "       [0.   ],\n",
       "       [1.   ],\n",
       "       [1.   ],\n",
       "       [0.   ],\n",
       "       [1.   ]])"
      ]
     },
     "execution_count": 13,
     "metadata": {},
     "output_type": "execute_result"
    }
   ],
   "source": [
    "xval = results['grb'].xval\n",
    "xval"
   ]
  },
  {
   "cell_type": "code",
   "execution_count": 17,
   "id": "guilty-gauge",
   "metadata": {
    "execution": {
     "iopub.execute_input": "2021-10-20T12:36:07.120908Z",
     "iopub.status.busy": "2021-10-20T12:36:07.120742Z",
     "iopub.status.idle": "2021-10-20T12:36:07.123249Z",
     "shell.execute_reply": "2021-10-20T12:36:07.122728Z",
     "shell.execute_reply.started": "2021-10-20T12:36:07.120890Z"
    }
   },
   "outputs": [],
   "source": [
    "from pyqp.bg_msk_msc import msc_diag, msc\n",
    "from pyqp.bg_msk_msc import dom, expr, mf"
   ]
  },
  {
   "cell_type": "code",
   "execution_count": 49,
   "id": "coordinated-monroe",
   "metadata": {
    "execution": {
     "iopub.execute_input": "2021-10-20T13:37:16.791106Z",
     "iopub.status.busy": "2021-10-20T13:37:16.790940Z",
     "iopub.status.idle": "2021-10-20T13:37:16.797290Z",
     "shell.execute_reply": "2021-10-20T13:37:16.796754Z",
     "shell.execute_reply.started": "2021-10-20T13:37:16.791088Z"
    }
   },
   "outputs": [],
   "source": [
    "qp1 = bb_msc.QP(*qp.unpack())\n",
    "qp1.decompose(decompose_method='eig-type2')"
   ]
  },
  {
   "cell_type": "code",
   "execution_count": 50,
   "id": "moderate-charles",
   "metadata": {
    "execution": {
     "iopub.execute_input": "2021-10-20T13:37:28.482670Z",
     "iopub.status.busy": "2021-10-20T13:37:28.482471Z",
     "iopub.status.idle": "2021-10-20T13:37:28.510952Z",
     "shell.execute_reply": "2021-10-20T13:37:28.510372Z",
     "shell.execute_reply.started": "2021-10-20T13:37:28.482639Z"
    }
   },
   "outputs": [],
   "source": [
    "r = msc_diag(qp1, solve=False)"
   ]
  },
  {
   "cell_type": "code",
   "execution_count": 51,
   "id": "published-productivity",
   "metadata": {
    "execution": {
     "iopub.execute_input": "2021-10-20T13:37:30.098137Z",
     "iopub.status.busy": "2021-10-20T13:37:30.097970Z",
     "iopub.status.idle": "2021-10-20T13:37:30.100604Z",
     "shell.execute_reply": "2021-10-20T13:37:30.100118Z",
     "shell.execute_reply.started": "2021-10-20T13:37:30.098119Z"
    }
   },
   "outputs": [],
   "source": [
    "# model \n",
    "model = r.problem\n",
    "x = r.xvar  \n",
    "y = r.yvar \n",
    "z = r.zvar"
   ]
  },
  {
   "cell_type": "code",
   "execution_count": 52,
   "id": "disciplinary-ballot",
   "metadata": {
    "execution": {
     "iopub.execute_input": "2021-10-20T13:37:34.769333Z",
     "iopub.status.busy": "2021-10-20T13:37:34.769168Z",
     "iopub.status.idle": "2021-10-20T13:37:34.778618Z",
     "shell.execute_reply": "2021-10-20T13:37:34.777605Z",
     "shell.execute_reply.started": "2021-10-20T13:37:34.769315Z"
    }
   },
   "outputs": [
    {
     "data": {
      "text/plain": [
       "mosek.fusion.LinearConstraint"
      ]
     },
     "execution_count": 52,
     "metadata": {},
     "output_type": "execute_result"
    }
   ],
   "source": [
    "for yy in r.Yvar:\n",
    "  sumy = expr.sum(yy)\n",
    "  model.constraint(expr.sub(expr.dot(x, results['grb'].xval), sumy), dom.greaterThan(0))\n",
    "model.constraint(expr.sub(expr.dot(x, results['grb'].xval), (results['grb'].xval**2).sum()), dom.greaterThan(0))"
   ]
  },
  {
   "cell_type": "code",
   "execution_count": 53,
   "id": "interpreted-allen",
   "metadata": {
    "execution": {
     "iopub.execute_input": "2021-10-20T13:37:35.766208Z",
     "iopub.status.busy": "2021-10-20T13:37:35.766038Z",
     "iopub.status.idle": "2021-10-20T13:37:35.806203Z",
     "shell.execute_reply": "2021-10-20T13:37:35.805651Z",
     "shell.execute_reply.started": "2021-10-20T13:37:35.766189Z"
    },
    "scrolled": true
   },
   "outputs": [
    {
     "name": "stdout",
     "output_type": "stream",
     "text": [
      "Problem\n",
      "  Name                   : many_small_cone_msk\n",
      "  Objective sense        : max             \n",
      "  Type                   : CONIC (conic optimization problem)\n",
      "  Constraints            : 69              \n",
      "  Cones                  : 0               \n",
      "  Scalar variables       : 11              \n",
      "  Matrix variables       : 30              \n",
      "  Integer variables      : 0               \n",
      "\n",
      "Optimizer started.\n",
      "Presolve started.\n",
      "Linear dependency checker started.\n",
      "Linear dependency checker terminated.\n",
      "Eliminator started.\n",
      "Freed constraints in eliminator : 0\n",
      "Eliminator terminated.\n",
      "Eliminator - tries                  : 1                 time                   : 0.00            \n",
      "Lin. dep.  - tries                  : 1                 time                   : 0.00            \n",
      "Lin. dep.  - number                 : 0               \n",
      "Presolve terminated. Time: 0.00    \n",
      "Problem\n",
      "  Name                   : many_small_cone_msk\n",
      "  Objective sense        : max             \n",
      "  Type                   : CONIC (conic optimization problem)\n",
      "  Constraints            : 69              \n",
      "  Cones                  : 0               \n",
      "  Scalar variables       : 11              \n",
      "  Matrix variables       : 30              \n",
      "  Integer variables      : 0               \n",
      "\n",
      "Optimizer  - threads                : 12              \n",
      "Optimizer  - solved problem         : the primal      \n",
      "Optimizer  - Constraints            : 69\n",
      "Optimizer  - Cones                  : 30\n",
      "Optimizer  - Scalar variables       : 109               conic                  : 90              \n",
      "Optimizer  - Semi-definite variables: 0                 scalarized             : 0               \n",
      "Factor     - setup time             : 0.00              dense det. time        : 0.00            \n",
      "Factor     - ML order time          : 0.00              GP order time          : 0.00            \n",
      "Factor     - nonzeros before factor : 880               after factor           : 1100            \n",
      "Factor     - dense dim.             : 0                 flops                  : 3.23e+04        \n",
      "ITE PFEAS    DFEAS    GFEAS    PRSTATUS   POBJ              DOBJ              MU       TIME  \n",
      "0   7.1e+00  1.1e+01  1.0e+00  0.00e+00   2.664535259e-15   0.000000000e+00   1.0e+00  0.01  \n",
      "1   2.8e+00  4.2e+00  5.3e-01  -8.16e-01  3.221880249e+01   3.122878261e+01   3.9e-01  0.02  \n",
      "2   1.1e+00  1.7e+00  1.9e-01  -3.55e-01  3.958633064e+01   3.854370581e+01   1.6e-01  0.02  \n",
      "3   2.4e-01  3.7e-01  2.7e-02  3.24e-01   3.580761001e+01   3.532466705e+01   3.5e-02  0.02  \n",
      "4   5.1e-02  7.8e-02  3.2e-03  6.76e-01   3.319719140e+01   3.304233651e+01   7.3e-03  0.02  \n",
      "5   1.3e-02  2.0e-02  4.5e-04  8.35e-01   3.182570378e+01   3.177773271e+01   1.9e-03  0.02  \n",
      "6   4.0e-03  6.0e-03  7.8e-05  8.95e-01   3.130091386e+01   3.128522473e+01   5.7e-04  0.02  \n",
      "7   4.0e-04  6.1e-04  2.5e-06  9.77e-01   3.108893118e+01   3.108729411e+01   5.7e-05  0.02  \n",
      "8   4.7e-05  7.0e-05  1.0e-07  9.77e-01   3.106605646e+01   3.106585199e+01   6.6e-06  0.02  \n",
      "9   5.6e-06  8.4e-06  4.3e-09  9.81e-01   3.106294648e+01   3.106292145e+01   7.9e-07  0.02  \n",
      "10  5.1e-07  7.7e-07  1.2e-10  9.96e-01   3.106253845e+01   3.106253614e+01   7.3e-08  0.02  \n",
      "11  2.0e-08  3.1e-08  9.5e-13  1.00e+00   3.106249790e+01   3.106249781e+01   2.9e-09  0.03  \n",
      "12  3.6e-10  5.3e-10  2.3e-15  1.00e+00   3.106249622e+01   3.106249622e+01   4.9e-11  0.03  \n",
      "Optimizer terminated. Time: 0.03    \n",
      "\n",
      "\n",
      "Interior-point solution summary\n",
      "  Problem status  : PRIMAL_AND_DUAL_FEASIBLE\n",
      "  Solution status : OPTIMAL\n",
      "  Primal.  obj: 3.1062496217e+01    nrm: 7e+01    Viol.  con: 1e-08    var: 2e-10    barvar: 0e+00  \n",
      "  Dual.    obj: 3.1062496215e+01    nrm: 8e+01    Viol.  con: 7e-15    var: 1e-09    barvar: 3e-09  \n"
     ]
    }
   ],
   "source": [
    "r.solve()"
   ]
  },
  {
   "cell_type": "code",
   "execution_count": 54,
   "id": "voluntary-section",
   "metadata": {
    "execution": {
     "iopub.execute_input": "2021-10-20T13:37:41.959015Z",
     "iopub.status.busy": "2021-10-20T13:37:41.958813Z",
     "iopub.status.idle": "2021-10-20T13:37:41.962844Z",
     "shell.execute_reply": "2021-10-20T13:37:41.962390Z",
     "shell.execute_reply.started": "2021-10-20T13:37:41.958984Z"
    }
   },
   "outputs": [
    {
     "data": {
      "text/plain": [
       "(array([[-0.   ],\n",
       "        [ 0.124],\n",
       "        [ 1.   ],\n",
       "        [ 1.   ],\n",
       "        [-0.   ],\n",
       "        [-0.   ],\n",
       "        [ 1.   ],\n",
       "        [ 1.   ],\n",
       "        [ 0.   ],\n",
       "        [ 1.   ]]),\n",
       " array([[0.   ],\n",
       "        [0.124],\n",
       "        [1.   ],\n",
       "        [1.   ],\n",
       "        [0.   ],\n",
       "        [0.   ],\n",
       "        [1.   ],\n",
       "        [1.   ],\n",
       "        [0.   ],\n",
       "        [1.   ]]))"
      ]
     },
     "execution_count": 54,
     "metadata": {},
     "output_type": "execute_result"
    }
   ],
   "source": [
    "r.xval, xval"
   ]
  },
  {
   "cell_type": "code",
   "execution_count": 48,
   "id": "aggressive-muslim",
   "metadata": {
    "execution": {
     "iopub.execute_input": "2021-10-20T13:36:29.093458Z",
     "iopub.status.busy": "2021-10-20T13:36:29.093288Z",
     "iopub.status.idle": "2021-10-20T13:36:29.096677Z",
     "shell.execute_reply": "2021-10-20T13:36:29.096243Z",
     "shell.execute_reply.started": "2021-10-20T13:36:29.093440Z"
    }
   },
   "outputs": [
    {
     "data": {
      "text/plain": [
       "array([[3.9281e-05]])"
      ]
     },
     "execution_count": 48,
     "metadata": {},
     "output_type": "execute_result"
    }
   ],
   "source": [
    "r.xval.T @ xval - xval.T@xval"
   ]
  },
  {
   "cell_type": "code",
   "execution_count": 44,
   "id": "comparable-company",
   "metadata": {
    "execution": {
     "iopub.execute_input": "2021-10-20T13:34:42.467443Z",
     "iopub.status.busy": "2021-10-20T13:34:42.467267Z",
     "iopub.status.idle": "2021-10-20T13:34:42.471034Z",
     "shell.execute_reply": "2021-10-20T13:34:42.470547Z",
     "shell.execute_reply.started": "2021-10-20T13:34:42.467424Z"
    }
   },
   "outputs": [
    {
     "data": {
      "text/plain": [
       "array([-0.385 , -0.3258, -0.3252])"
      ]
     },
     "execution_count": 44,
     "metadata": {},
     "output_type": "execute_result"
    }
   ],
   "source": [
    "(r.Zval ** 2).sum(0) - r.Yval.sum(0)"
   ]
  },
  {
   "cell_type": "code",
   "execution_count": 43,
   "id": "proper-circumstances",
   "metadata": {
    "execution": {
     "iopub.execute_input": "2021-10-20T13:30:14.527070Z",
     "iopub.status.busy": "2021-10-20T13:30:14.526870Z",
     "iopub.status.idle": "2021-10-20T13:30:14.530697Z",
     "shell.execute_reply": "2021-10-20T13:30:14.530262Z",
     "shell.execute_reply.started": "2021-10-20T13:30:14.527038Z"
    }
   },
   "outputs": [
    {
     "data": {
      "text/plain": [
       "array([-1.8430e-05, -9.2740e-05, -1.5192e-04])"
      ]
     },
     "execution_count": 43,
     "metadata": {},
     "output_type": "execute_result"
    }
   ],
   "source": [
    "(r.Zval ** 2).sum(0) - (r.xval ** 2).sum(0)"
   ]
  }
 ],
 "metadata": {
  "kernelspec": {
   "display_name": "Python 3",
   "language": "python",
   "name": "python3"
  },
  "language_info": {
   "codemirror_mode": {
    "name": "ipython",
    "version": 3
   },
   "file_extension": ".py",
   "mimetype": "text/x-python",
   "name": "python",
   "nbconvert_exporter": "python",
   "pygments_lexer": "ipython3",
   "version": "3.7.3"
  }
 },
 "nbformat": 4,
 "nbformat_minor": 5
}
