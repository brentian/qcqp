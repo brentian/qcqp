{
 "cells": [
  {
   "cell_type": "code",
   "execution_count": 1,
   "metadata": {
    "collapsed": true
   },
   "outputs": [],
   "source": [
    "import numpy as np\n",
    "import sys\n",
    "\n",
    "try:\n",
    "    import mosek.fusion as mf\n",
    "\n",
    "    expr = mf.Expr\n",
    "    dom = mf.Domain\n",
    "    mat = mf.Matrix\n",
    "except Exception as e:\n",
    "    import logging\n",
    "\n",
    "    logging.exception(e)"
   ]
  },
  {
   "cell_type": "code",
   "execution_count": 87,
   "outputs": [],
   "source": [
    "def subp_x(\n",
    "        xi,\n",
    "        kappa,\n",
    "        mu,\n",
    "        rho=1,\n",
    "        verbose=True\n",
    "):\n",
    "  n, d = xi.shape\n",
    "  model = mf.Model(\"kissing-num\")\n",
    "  S = model.variable('s', dom.greaterThan(0))\n",
    "  X = model.variable('x', [n, d])\n",
    "\n",
    "  # |xi + xj | <= 12\n",
    "  for i in range(n):\n",
    "    for j in range(i, n):\n",
    "      model.constraint(\n",
    "        expr.vstack(\n",
    "          0.5,\n",
    "          S,\n",
    "          expr.flatten(expr.add(X.slice([i, 0], [i + 1, d]), X.slice([j, 0], [j + 1, d])))\n",
    "        ),\n",
    "        dom.inRotatedQCone()\n",
    "      )\n",
    "  model.constraint(S, dom.lessThan(12))\n",
    "\n",
    "\n",
    "  obj_expr = 0\n",
    "\n",
    "  # ALM terms\n",
    "  # the t - s gap\n",
    "  t = model.variable(\"t\", dom.inRange(0, 4))\n",
    "  expr_norm_gap = expr.sub(t, 4)\n",
    "  expr_norm_gap_sqr = model.variable(\"t_s\", dom.greaterThan(0))\n",
    "  model.constraint(\n",
    "    expr.vstack(1 / 2, expr_norm_gap_sqr, expr_norm_gap), dom.inRotatedQCone()\n",
    "  )\n",
    "  for i in range(n):\n",
    "    model.constraint(\n",
    "      expr.vstack(1/2, t, expr.flatten(X.slice([i, 0], [i + 1, d]))),\n",
    "      dom.inRotatedQCone()\n",
    "    )\n",
    "  obj_expr = expr.add(obj_expr, expr.mul(kappa, expr_norm_gap))\n",
    "  obj_expr = expr.add(obj_expr, expr.mul(rho / 2, expr_norm_gap_sqr))\n",
    "  # the <𝜉, x> - gap\n",
    "  expr_norm_x_gap_sqr = model.variable(\"xi_x\", [n], dom.greaterThan(0))\n",
    "  for i in range(n):\n",
    "    expr_norm_x_gap = expr.sub(\n",
    "      expr.dot(\n",
    "        expr.flatten(X.slice([i, 0], [i + 1, d])),\n",
    "        xi[i]\n",
    "      ),\n",
    "      4\n",
    "    )\n",
    "    model.constraint(\n",
    "      expr.vstack(1 / 2, expr_norm_x_gap_sqr.index(i), expr_norm_x_gap),\n",
    "      dom.inRotatedQCone()\n",
    "    )\n",
    "    obj_expr = expr.add(obj_expr, expr.mul(mu[i], expr_norm_x_gap))\n",
    "    obj_expr = expr.add(obj_expr, expr.mul(rho / 2, expr_norm_x_gap_sqr.index(i)))\n",
    "\n",
    "  # ALM objective\n",
    "  model.objective(mf.ObjectiveSense.Minimize, obj_expr)\n",
    "  if verbose:\n",
    "    model.setLogHandler(sys.stdout)\n",
    "  model.solve()\n",
    "  x = X.level().reshape((n, d))\n",
    "  x_s = expr_norm_x_gap_sqr.level()\n",
    "  s = S.level()\n",
    "  t = t.level()\n",
    "  return x, x_s, t, s"
   ],
   "metadata": {
    "collapsed": false,
    "pycharm": {
     "name": "#%%\n"
    }
   }
  },
  {
   "cell_type": "code",
   "execution_count": 99,
   "outputs": [],
   "source": [
    "def subp_xi(x, mu, t, rho=1, verbose=True):\n",
    "  n, d = x.shape\n",
    "  ###################\n",
    "  # The above part is unchanged\n",
    "  ###################\n",
    "  # norm bounds on y^Te\n",
    "  model = mf.Model(\"kissing-num-aux\")\n",
    "  Xi = model.variable(\"xi\", [n, d])\n",
    "\n",
    "  for i in range(n):\n",
    "    model.constraint(\n",
    "      expr.vstack(2, expr.flatten(Xi.slice([i, 0], [i+1, d]))),\n",
    "      dom.inQCone()\n",
    "    )\n",
    "  obj_expr = 0\n",
    "\n",
    "  # ALM terms\n",
    "  # the <𝜉, x> - gap\n",
    "  expr_norm_x_gap_sqr = model.variable(\"xi_x\", [n], dom.greaterThan(0))\n",
    "\n",
    "  for i in range(n):\n",
    "    expr_norm_x_gap = expr.sub(\n",
    "      expr.dot(\n",
    "        x[i],\n",
    "        expr.flatten(Xi.slice([i, 0], [i + 1, d]))\n",
    "      ),\n",
    "      4\n",
    "    )\n",
    "    model.constraint(\n",
    "      expr.vstack(1 / 2, expr_norm_x_gap_sqr.index(i), expr_norm_x_gap),\n",
    "      dom.inRotatedQCone()\n",
    "    )\n",
    "    obj_expr = expr.add(obj_expr, expr.mul(mu[i], expr_norm_x_gap))\n",
    "    obj_expr = expr.add(obj_expr, expr.mul(rho / 2, expr_norm_x_gap_sqr.index(i)))\n",
    "\n",
    "  # ALM objective\n",
    "  model.objective(mf.ObjectiveSense.Minimize, obj_expr)\n",
    "  if verbose:\n",
    "    model.setLogHandler(sys.stdout)\n",
    "  model.solve()\n",
    "  xi = Xi.level().reshape((n, d))\n",
    "  xs_sqr = expr_norm_x_gap_sqr.level()\n",
    "  return xi, xs_sqr"
   ],
   "metadata": {
    "collapsed": false,
    "pycharm": {
     "name": "#%%\n"
    }
   }
  },
  {
   "cell_type": "code",
   "execution_count": 75,
   "outputs": [],
   "source": [
    "n, d = 2, 2"
   ],
   "metadata": {
    "collapsed": false,
    "pycharm": {
     "name": "#%%\n"
    }
   }
  },
  {
   "cell_type": "code",
   "execution_count": 98,
   "outputs": [
    {
     "name": "stdout",
     "output_type": "stream",
     "text": [
      "Problem\n",
      "  Name                   : kissing-num     \n",
      "  Objective sense        : min             \n",
      "  Type                   : CONIC (conic optimization problem)\n",
      "  Constraints            : 30              \n",
      "  Cones                  : 8               \n",
      "  Scalar variables       : 39              \n",
      "  Matrix variables       : 0               \n",
      "  Integer variables      : 0               \n",
      "\n",
      "Optimizer started.\n",
      "Presolve started.\n",
      "Linear dependency checker started.\n",
      "Linear dependency checker terminated.\n",
      "Eliminator started.\n",
      "Freed constraints in eliminator : 3\n",
      "Eliminator terminated.\n",
      "Eliminator started.\n",
      "Freed constraints in eliminator : 0\n",
      "Eliminator terminated.\n",
      "Eliminator - tries                  : 2                 time                   : 0.00            \n",
      "Lin. dep.  - tries                  : 1                 time                   : 0.00            \n",
      "Lin. dep.  - number                 : 0               \n",
      "Presolve terminated. Time: 0.00    \n",
      "Problem\n",
      "  Name                   : kissing-num     \n",
      "  Objective sense        : min             \n",
      "  Type                   : CONIC (conic optimization problem)\n",
      "  Constraints            : 30              \n",
      "  Cones                  : 8               \n",
      "  Scalar variables       : 39              \n",
      "  Matrix variables       : 0               \n",
      "  Integer variables      : 0               \n",
      "\n",
      "Optimizer  - threads                : 12              \n",
      "Optimizer  - solved problem         : the primal      \n",
      "Optimizer  - Constraints            : 12\n",
      "Optimizer  - Cones                  : 8\n",
      "Optimizer  - Scalar variables       : 29                conic                  : 29              \n",
      "Optimizer  - Semi-definite variables: 0                 scalarized             : 0               \n",
      "Factor     - setup time             : 0.00              dense det. time        : 0.00            \n",
      "Factor     - ML order time          : 0.00              GP order time          : 0.00            \n",
      "Factor     - nonzeros before factor : 47                after factor           : 61              \n",
      "Factor     - dense dim.             : 0                 flops                  : 6.34e+02        \n",
      "ITE PFEAS    DFEAS    GFEAS    PRSTATUS   POBJ              DOBJ              MU       TIME  \n",
      "0   1.0e+01  7.1e-01  4.9e+00  0.00e+00   -6.939339828e+00  -1.082842712e+01  1.0e+00  0.01  \n",
      "1   1.9e+00  1.3e-01  1.3e+00  -6.54e-01  -4.187489252e+00  -4.691157063e+00  1.8e-01  0.01  \n",
      "2   2.8e-01  1.9e-02  1.2e-01  1.66e-01   7.804597993e-01   9.724427924e-01   2.7e-02  0.02  \n",
      "3   1.0e-01  7.1e-03  2.6e-02  8.86e-01   -3.863384868e-01  -3.309369205e-01  1.0e-02  0.02  \n",
      "4   2.6e-02  1.8e-03  3.2e-03  9.73e-01   -6.286503112e-01  -6.202273593e-01  2.5e-03  0.02  \n",
      "5   3.7e-03  2.5e-04  1.6e-04  1.00e+00   -6.875188679e-01  -6.876302451e-01  3.6e-04  0.02  \n",
      "6   9.7e-04  6.7e-05  2.1e-05  9.98e-01   -6.938832231e-01  -6.939429450e-01  9.4e-05  0.02  \n",
      "7   2.3e-04  1.6e-05  2.5e-06  9.99e-01   -6.961319417e-01  -6.961503247e-01  2.3e-05  0.02  \n",
      "8   5.2e-05  3.6e-06  2.6e-07  1.00e+00   -6.967485369e-01  -6.967530962e-01  5.1e-06  0.02  \n",
      "9   1.1e-05  7.8e-07  2.7e-08  1.00e+00   -6.968963408e-01  -6.968973708e-01  1.1e-06  0.02  \n",
      "10  2.4e-06  1.7e-07  2.6e-09  1.00e+00   -6.969294267e-01  -6.969296491e-01  2.3e-07  0.02  \n",
      "11  5.0e-07  3.5e-08  2.5e-10  1.00e+00   -6.969365675e-01  -6.969366141e-01  4.9e-08  0.02  \n",
      "12  9.5e-08  1.0e-08  2.0e-11  1.00e+00   -6.969380799e-01  -6.969380845e-01  9.4e-09  0.02  \n",
      "13  1.7e-08  1.4e-09  1.6e-12  1.00e+00   -6.969383881e-01  -6.969383889e-01  1.7e-09  0.02  \n",
      "Optimizer terminated. Time: 0.03    \n",
      "\n",
      "\n",
      "Interior-point solution summary\n",
      "  Problem status  : PRIMAL_AND_DUAL_FEASIBLE\n",
      "  Solution status : OPTIMAL\n",
      "  Primal.  obj: -6.9693838807e-01   nrm: 1e+01    Viol.  con: 3e-08    var: 0e+00    cones: 0e+00  \n",
      "  Dual.    obj: -6.9693838739e-01   nrm: 2e+00    Viol.  con: 0e+00    var: 7e-09    cones: 0e+00  \n"
     ]
    }
   ],
   "source": [
    "xi = x = np.ones((n, d))\n",
    "rho = 1\n",
    "mu = np.ones(n)\n",
    "kappa = 0\n",
    "x, x_s, t, s = subp_x(x, kappa, mu, rho, True)"
   ],
   "metadata": {
    "collapsed": false,
    "pycharm": {
     "name": "#%%\n"
    }
   }
  },
  {
   "cell_type": "code",
   "execution_count": 97,
   "outputs": [
    {
     "data": {
      "text/plain": "array([2.40408227, 2.40408227])"
     },
     "execution_count": 97,
     "metadata": {},
     "output_type": "execute_result"
    }
   ],
   "source": [
    "x_s"
   ],
   "metadata": {
    "collapsed": false,
    "pycharm": {
     "name": "#%%\n"
    }
   }
  },
  {
   "cell_type": "code",
   "execution_count": 96,
   "outputs": [
    {
     "data": {
      "text/plain": "array([[2.40408234, 2.40408234],\n       [2.40408234, 2.40408234]])"
     },
     "execution_count": 96,
     "metadata": {},
     "output_type": "execute_result"
    }
   ],
   "source": [
    "((x@xi.T ) -4) ** 2\n"
   ],
   "metadata": {
    "collapsed": false,
    "pycharm": {
     "name": "#%%\n"
    }
   }
  },
  {
   "cell_type": "code",
   "execution_count": 90,
   "outputs": [
    {
     "data": {
      "text/plain": "array([8.89897846])"
     },
     "execution_count": 90,
     "metadata": {},
     "output_type": "execute_result"
    }
   ],
   "source": [
    "kappa * (t - 4) + rho/2*(t-4)**2 + np.diag(x @ xi.T).dot(mu) + sum(np.diag(x @ xi.T)**2 - 4) * rho"
   ],
   "metadata": {
    "collapsed": false,
    "pycharm": {
     "name": "#%%\n"
    }
   }
  },
  {
   "cell_type": "code",
   "execution_count": 78,
   "outputs": [
    {
     "ename": "DimensionError",
     "evalue": "Mismatching operand shapes",
     "output_type": "error",
     "traceback": [
      "\u001B[0;31m---------------------------------------------------------------------------\u001B[0m",
      "\u001B[0;31mDimensionError\u001B[0m                            Traceback (most recent call last)",
      "\u001B[0;32m/var/folders/g4/vm8w2vbs4r96qy4397v0_sth0000gn/T/ipykernel_53070/79230967.py\u001B[0m in \u001B[0;36m<module>\u001B[0;34m\u001B[0m\n\u001B[1;32m      1\u001B[0m \u001B[0;32mfor\u001B[0m \u001B[0mi\u001B[0m \u001B[0;32min\u001B[0m \u001B[0mrange\u001B[0m\u001B[0;34m(\u001B[0m\u001B[0;36m10\u001B[0m\u001B[0;34m)\u001B[0m\u001B[0;34m:\u001B[0m\u001B[0;34m\u001B[0m\u001B[0;34m\u001B[0m\u001B[0m\n\u001B[0;32m----> 2\u001B[0;31m   \u001B[0mx\u001B[0m\u001B[0;34m,\u001B[0m \u001B[0ms\u001B[0m \u001B[0;34m=\u001B[0m \u001B[0msubp_x\u001B[0m\u001B[0;34m(\u001B[0m\u001B[0mxi\u001B[0m\u001B[0;34m,\u001B[0m \u001B[0mmu\u001B[0m\u001B[0;34m,\u001B[0m \u001B[0mrho\u001B[0m\u001B[0;34m,\u001B[0m \u001B[0;32mFalse\u001B[0m\u001B[0;34m)\u001B[0m\u001B[0;34m\u001B[0m\u001B[0;34m\u001B[0m\u001B[0m\n\u001B[0m\u001B[1;32m      3\u001B[0m   \u001B[0mxi\u001B[0m\u001B[0;34m,\u001B[0m \u001B[0mxs_sqr\u001B[0m \u001B[0;34m=\u001B[0m \u001B[0msubp_xi\u001B[0m\u001B[0;34m(\u001B[0m\u001B[0mx\u001B[0m\u001B[0;34m,\u001B[0m \u001B[0mmu\u001B[0m\u001B[0;34m,\u001B[0m \u001B[0mrho\u001B[0m\u001B[0;34m,\u001B[0m \u001B[0;32mFalse\u001B[0m\u001B[0;34m)\u001B[0m\u001B[0;34m\u001B[0m\u001B[0;34m\u001B[0m\u001B[0m\n\u001B[1;32m      4\u001B[0m   \u001B[0mx_s\u001B[0m  \u001B[0;34m=\u001B[0m \u001B[0mnp\u001B[0m\u001B[0;34m.\u001B[0m\u001B[0mdiag\u001B[0m\u001B[0;34m(\u001B[0m\u001B[0mx\u001B[0m \u001B[0;34m@\u001B[0m \u001B[0mxi\u001B[0m\u001B[0;34m.\u001B[0m\u001B[0mT\u001B[0m\u001B[0;34m)\u001B[0m \u001B[0;34m-\u001B[0m \u001B[0;36m4\u001B[0m\u001B[0;34m\u001B[0m\u001B[0;34m\u001B[0m\u001B[0m\n\u001B[1;32m      5\u001B[0m   \u001B[0;31m# t_s  = t - 4\u001B[0m\u001B[0;34m\u001B[0m\u001B[0;34m\u001B[0m\u001B[0;34m\u001B[0m\u001B[0m\n",
      "\u001B[0;32m/var/folders/g4/vm8w2vbs4r96qy4397v0_sth0000gn/T/ipykernel_53070/1982800387.py\u001B[0m in \u001B[0;36msubp_x\u001B[0;34m(xi, kappa, mu, rho, verbose)\u001B[0m\n\u001B[1;32m     41\u001B[0m     )\n\u001B[1;32m     42\u001B[0m   \u001B[0mobj_expr\u001B[0m \u001B[0;34m=\u001B[0m \u001B[0mexpr\u001B[0m\u001B[0;34m.\u001B[0m\u001B[0madd\u001B[0m\u001B[0;34m(\u001B[0m\u001B[0mobj_expr\u001B[0m\u001B[0;34m,\u001B[0m \u001B[0mexpr\u001B[0m\u001B[0;34m.\u001B[0m\u001B[0mmul\u001B[0m\u001B[0;34m(\u001B[0m\u001B[0mkappa\u001B[0m\u001B[0;34m,\u001B[0m \u001B[0mexpr_norm_gap\u001B[0m\u001B[0;34m)\u001B[0m\u001B[0;34m)\u001B[0m\u001B[0;34m\u001B[0m\u001B[0;34m\u001B[0m\u001B[0m\n\u001B[0;32m---> 43\u001B[0;31m   \u001B[0mobj_expr\u001B[0m \u001B[0;34m=\u001B[0m \u001B[0mexpr\u001B[0m\u001B[0;34m.\u001B[0m\u001B[0madd\u001B[0m\u001B[0;34m(\u001B[0m\u001B[0mobj_expr\u001B[0m\u001B[0;34m,\u001B[0m \u001B[0mexpr\u001B[0m\u001B[0;34m.\u001B[0m\u001B[0mmul\u001B[0m\u001B[0;34m(\u001B[0m\u001B[0mrho\u001B[0m \u001B[0;34m/\u001B[0m \u001B[0;36m2\u001B[0m\u001B[0;34m,\u001B[0m \u001B[0mexpr_norm_gap_sqr\u001B[0m\u001B[0;34m)\u001B[0m\u001B[0;34m)\u001B[0m\u001B[0;34m\u001B[0m\u001B[0;34m\u001B[0m\u001B[0m\n\u001B[0m\u001B[1;32m     44\u001B[0m   \u001B[0;31m# the <𝜉, x> - gap\u001B[0m\u001B[0;34m\u001B[0m\u001B[0;34m\u001B[0m\u001B[0;34m\u001B[0m\u001B[0m\n\u001B[1;32m     45\u001B[0m   \u001B[0mexpr_norm_x_gap_sqr\u001B[0m \u001B[0;34m=\u001B[0m \u001B[0mmodel\u001B[0m\u001B[0;34m.\u001B[0m\u001B[0mvariable\u001B[0m\u001B[0;34m(\u001B[0m\u001B[0;34m\"xi_x\"\u001B[0m\u001B[0;34m,\u001B[0m \u001B[0;34m[\u001B[0m\u001B[0mn\u001B[0m\u001B[0;34m]\u001B[0m\u001B[0;34m,\u001B[0m \u001B[0mdom\u001B[0m\u001B[0;34m.\u001B[0m\u001B[0mgreaterThan\u001B[0m\u001B[0;34m(\u001B[0m\u001B[0;36m0\u001B[0m\u001B[0;34m)\u001B[0m\u001B[0;34m)\u001B[0m\u001B[0;34m\u001B[0m\u001B[0;34m\u001B[0m\u001B[0m\n",
      "\u001B[0;32m~/anaconda3/lib/python3.7/site-packages/mosek/fusion/impl/_implementation.py\u001B[0m in \u001B[0;36madd\u001B[0;34m(*args)\u001B[0m\n\u001B[1;32m  30073\u001B[0m       \u001B[0;32mreturn\u001B[0m \u001B[0mmosek_fusion_Expr\u001B[0m\u001B[0;34m.\u001B[0m\u001B[0m_add_alt__3DLmosek_4fusion_4Expression_2\u001B[0m\u001B[0;34m(\u001B[0m\u001B[0;34m*\u001B[0m\u001B[0margs\u001B[0m\u001B[0;34m)\u001B[0m\u001B[0;34m\u001B[0m\u001B[0;34m\u001B[0m\u001B[0m\n\u001B[1;32m  30074\u001B[0m     \u001B[0;32melif\u001B[0m \u001B[0mmosek_fusion_Expr\u001B[0m\u001B[0;34m.\u001B[0m\u001B[0m_match_add_Lmosek_4fusion_4Expression_2Lmosek_4fusion_4Expression_2\u001B[0m\u001B[0;34m(\u001B[0m\u001B[0;34m*\u001B[0m\u001B[0margs\u001B[0m\u001B[0;34m)\u001B[0m\u001B[0;34m:\u001B[0m \u001B[0;31m# mosek.fusion.Expression,mosek.fusion.Expression\u001B[0m\u001B[0;34m\u001B[0m\u001B[0;34m\u001B[0m\u001B[0m\n\u001B[0;32m> 30075\u001B[0;31m       \u001B[0;32mreturn\u001B[0m \u001B[0mmosek_fusion_Expr\u001B[0m\u001B[0;34m.\u001B[0m\u001B[0m_add_Lmosek_4fusion_4Expression_2Lmosek_4fusion_4Expression_2\u001B[0m\u001B[0;34m(\u001B[0m\u001B[0;34m*\u001B[0m\u001B[0margs\u001B[0m\u001B[0;34m)\u001B[0m\u001B[0;34m\u001B[0m\u001B[0;34m\u001B[0m\u001B[0m\n\u001B[0m\u001B[1;32m  30076\u001B[0m     \u001B[0;32melif\u001B[0m \u001B[0mmosek_fusion_Expr\u001B[0m\u001B[0;34m.\u001B[0m\u001B[0m_match_alt_add_Lmosek_4fusion_4Expression_2Lmosek_4fusion_4Expression_2\u001B[0m\u001B[0;34m(\u001B[0m\u001B[0;34m*\u001B[0m\u001B[0margs\u001B[0m\u001B[0;34m)\u001B[0m\u001B[0;34m:\u001B[0m \u001B[0;31m# mosek.fusion.Expression,mosek.fusion.Expression\u001B[0m\u001B[0;34m\u001B[0m\u001B[0;34m\u001B[0m\u001B[0m\n\u001B[1;32m  30077\u001B[0m       \u001B[0;32mreturn\u001B[0m \u001B[0mmosek_fusion_Expr\u001B[0m\u001B[0;34m.\u001B[0m\u001B[0m_add_alt_Lmosek_4fusion_4Expression_2Lmosek_4fusion_4Expression_2\u001B[0m\u001B[0;34m(\u001B[0m\u001B[0;34m*\u001B[0m\u001B[0margs\u001B[0m\u001B[0;34m)\u001B[0m\u001B[0;34m\u001B[0m\u001B[0;34m\u001B[0m\u001B[0m\n",
      "\u001B[0;32m~/anaconda3/lib/python3.7/site-packages/mosek/fusion/impl/_implementation.py\u001B[0m in \u001B[0;36m_add_Lmosek_4fusion_4Expression_2Lmosek_4fusion_4Expression_2\u001B[0;34m(_0, _1)\u001B[0m\n\u001B[1;32m  33356\u001B[0m   \u001B[0;34m@\u001B[0m\u001B[0mstaticmethod\u001B[0m\u001B[0;34m\u001B[0m\u001B[0;34m\u001B[0m\u001B[0m\n\u001B[1;32m  33357\u001B[0m   \u001B[0;32mdef\u001B[0m \u001B[0m_add_Lmosek_4fusion_4Expression_2Lmosek_4fusion_4Expression_2\u001B[0m\u001B[0;34m(\u001B[0m\u001B[0m_0\u001B[0m\u001B[0;34m,\u001B[0m\u001B[0m_1\u001B[0m\u001B[0;34m)\u001B[0m\u001B[0;34m:\u001B[0m\u001B[0;34m\u001B[0m\u001B[0;34m\u001B[0m\u001B[0m\n\u001B[0;32m> 33358\u001B[0;31m    \u001B[0;32mreturn\u001B[0m \u001B[0;34m(\u001B[0m\u001B[0mmosek\u001B[0m\u001B[0;34m.\u001B[0m\u001B[0mfusion\u001B[0m\u001B[0;34m.\u001B[0m\u001B[0mExpr\u001B[0m\u001B[0;34m.\u001B[0m\u001B[0m__add_1_Lmosek_4fusion_4Expression_2DLmosek_4fusion_4Expression_2D\u001B[0m\u001B[0;34m(\u001B[0m\u001B[0m_0\u001B[0m\u001B[0;34m,\u001B[0m\u001B[0;36m1.0\u001B[0m\u001B[0;34m,\u001B[0m\u001B[0m_1\u001B[0m\u001B[0;34m,\u001B[0m\u001B[0;36m1.0\u001B[0m\u001B[0;34m)\u001B[0m\u001B[0;34m)\u001B[0m\u001B[0;34m\u001B[0m\u001B[0;34m\u001B[0m\u001B[0m\n\u001B[0m\u001B[1;32m  33359\u001B[0m   \u001B[0;34m@\u001B[0m\u001B[0mstaticmethod\u001B[0m\u001B[0;34m\u001B[0m\u001B[0;34m\u001B[0m\u001B[0m\n\u001B[1;32m  33360\u001B[0m   \u001B[0;32mdef\u001B[0m \u001B[0m_match_getND_\u001B[0m\u001B[0;34m(\u001B[0m\u001B[0;34m*\u001B[0m\u001B[0margs\u001B[0m\u001B[0;34m)\u001B[0m\u001B[0;34m:\u001B[0m\u001B[0;34m\u001B[0m\u001B[0;34m\u001B[0m\u001B[0m\n",
      "\u001B[0;32m~/anaconda3/lib/python3.7/site-packages/mosek/fusion/impl/_implementation.py\u001B[0m in \u001B[0;36m__add_1_Lmosek_4fusion_4Expression_2DLmosek_4fusion_4Expression_2D\u001B[0;34m(_0, _1, _2, _3)\u001B[0m\n\u001B[1;32m  32749\u001B[0m      \u001B[0mfragments\u001B[0m\u001B[0;34m.\u001B[0m\u001B[0m_c_closure_596\u001B[0m\u001B[0;34m(\u001B[0m\u001B[0m_5\u001B[0m\u001B[0;34m,\u001B[0m\u001B[0m_9\u001B[0m\u001B[0;34m,\u001B[0m\u001B[0m_7\u001B[0m\u001B[0;34m)\u001B[0m \u001B[0;31m# src/fusion/Expr.mbi:722:12-50\u001B[0m\u001B[0;34m\u001B[0m\u001B[0;34m\u001B[0m\u001B[0m\n\u001B[1;32m  32750\u001B[0m      \u001B[0mfragments\u001B[0m\u001B[0;34m.\u001B[0m\u001B[0m_c_closure_597\u001B[0m\u001B[0;34m(\u001B[0m\u001B[0m_6\u001B[0m\u001B[0;34m,\u001B[0m\u001B[0m_5\u001B[0m\u001B[0;34m,\u001B[0m\u001B[0m_7\u001B[0m\u001B[0;34m)\u001B[0m \u001B[0;31m# src/fusion/Expr.mbi:723:12-47\u001B[0m\u001B[0;34m\u001B[0m\u001B[0;34m\u001B[0m\u001B[0m\n\u001B[0;32m> 32751\u001B[0;31m      \u001B[0;32mreturn\u001B[0m \u001B[0;34m(\u001B[0m\u001B[0mmosek_fusion_ExprAdd\u001B[0m\u001B[0;34m.\u001B[0m\u001B[0m_ctor_Lmosek_4fusion_4Expression_2Lmosek_4fusion_4Expression_2DD\u001B[0m\u001B[0;34m(\u001B[0m\u001B[0m_0\u001B[0m\u001B[0;34m,\u001B[0m\u001B[0mmosek_fusion_ExprReshape\u001B[0m\u001B[0;34m.\u001B[0m\u001B[0m_ctor__3ILmosek_4fusion_4Expression_2\u001B[0m\u001B[0;34m(\u001B[0m\u001B[0m_7\u001B[0m\u001B[0;34m,\u001B[0m\u001B[0m_2\u001B[0m\u001B[0;34m)\u001B[0m\u001B[0;34m,\u001B[0m\u001B[0m_1\u001B[0m\u001B[0;34m,\u001B[0m\u001B[0m_3\u001B[0m\u001B[0;34m)\u001B[0m\u001B[0;34m)\u001B[0m\u001B[0;34m\u001B[0m\u001B[0;34m\u001B[0m\u001B[0m\n\u001B[0m\u001B[1;32m  32752\u001B[0m   \u001B[0;34m@\u001B[0m\u001B[0mstaticmethod\u001B[0m\u001B[0;34m\u001B[0m\u001B[0;34m\u001B[0m\u001B[0m\n\u001B[1;32m  32753\u001B[0m   \u001B[0;32mdef\u001B[0m \u001B[0m_match_transpose_Lmosek_4fusion_4Expression_2\u001B[0m\u001B[0;34m(\u001B[0m\u001B[0;34m*\u001B[0m\u001B[0margs\u001B[0m\u001B[0;34m)\u001B[0m\u001B[0;34m:\u001B[0m\u001B[0;34m\u001B[0m\u001B[0;34m\u001B[0m\u001B[0m\n",
      "\u001B[0;32m~/anaconda3/lib/python3.7/site-packages/mosek/fusion/impl/_implementation.py\u001B[0m in \u001B[0;36m_ctor_Lmosek_4fusion_4Expression_2Lmosek_4fusion_4Expression_2DD\u001B[0;34m(e1, e2, m1, m2)\u001B[0m\n\u001B[1;32m  28024\u001B[0m   \u001B[0;32mdef\u001B[0m \u001B[0m_ctor_Lmosek_4fusion_4Expression_2Lmosek_4fusion_4Expression_2DD\u001B[0m\u001B[0;34m(\u001B[0m\u001B[0me1\u001B[0m\u001B[0;34m,\u001B[0m\u001B[0me2\u001B[0m\u001B[0;34m,\u001B[0m\u001B[0mm1\u001B[0m\u001B[0;34m,\u001B[0m\u001B[0mm2\u001B[0m\u001B[0;34m)\u001B[0m\u001B[0;34m:\u001B[0m\u001B[0;34m\u001B[0m\u001B[0;34m\u001B[0m\u001B[0m\n\u001B[1;32m  28025\u001B[0m     \u001B[0mo\u001B[0m \u001B[0;34m=\u001B[0m \u001B[0mExprAdd\u001B[0m\u001B[0;34m.\u001B[0m\u001B[0m__new__\u001B[0m\u001B[0;34m(\u001B[0m\u001B[0mExprAdd\u001B[0m\u001B[0;34m)\u001B[0m\u001B[0;34m\u001B[0m\u001B[0;34m\u001B[0m\u001B[0m\n\u001B[0;32m> 28026\u001B[0;31m     \u001B[0mo\u001B[0m\u001B[0;34m.\u001B[0m\u001B[0m_ctor_init_Lmosek_4fusion_4Expression_2Lmosek_4fusion_4Expression_2DD\u001B[0m\u001B[0;34m(\u001B[0m\u001B[0me1\u001B[0m\u001B[0;34m,\u001B[0m\u001B[0me2\u001B[0m\u001B[0;34m,\u001B[0m\u001B[0mm1\u001B[0m\u001B[0;34m,\u001B[0m\u001B[0mm2\u001B[0m\u001B[0;34m)\u001B[0m\u001B[0;34m\u001B[0m\u001B[0;34m\u001B[0m\u001B[0m\n\u001B[0m\u001B[1;32m  28027\u001B[0m     \u001B[0;32mreturn\u001B[0m \u001B[0mo\u001B[0m\u001B[0;34m\u001B[0m\u001B[0;34m\u001B[0m\u001B[0m\n\u001B[1;32m  28028\u001B[0m   \u001B[0;34m@\u001B[0m\u001B[0mstaticmethod\u001B[0m\u001B[0;34m\u001B[0m\u001B[0;34m\u001B[0m\u001B[0m\n",
      "\u001B[0;32m~/anaconda3/lib/python3.7/site-packages/mosek/fusion/impl/_implementation.py\u001B[0m in \u001B[0;36m_ctor_init_Lmosek_4fusion_4Expression_2Lmosek_4fusion_4Expression_2DD\u001B[0;34m(self, e1, e2, m1, m2)\u001B[0m\n\u001B[1;32m  28048\u001B[0m    \u001B[0;32mfor\u001B[0m \u001B[0m_0\u001B[0m \u001B[0;32min\u001B[0m \u001B[0mrange\u001B[0m\u001B[0;34m(\u001B[0m\u001B[0;36m0\u001B[0m\u001B[0;34m,\u001B[0m\u001B[0me1\u001B[0m\u001B[0;34m.\u001B[0m\u001B[0m_getND_\u001B[0m\u001B[0;34m(\u001B[0m\u001B[0;34m)\u001B[0m\u001B[0;34m)\u001B[0m\u001B[0;34m:\u001B[0m\u001B[0;34m\u001B[0m\u001B[0;34m\u001B[0m\u001B[0m\n\u001B[1;32m  28049\u001B[0m     \u001B[0;32mif\u001B[0m \u001B[0;34m(\u001B[0m\u001B[0me1\u001B[0m\u001B[0;34m.\u001B[0m\u001B[0m_getDim_I\u001B[0m\u001B[0;34m(\u001B[0m\u001B[0m_0\u001B[0m\u001B[0;34m)\u001B[0m\u001B[0;34m!=\u001B[0m\u001B[0me2\u001B[0m\u001B[0;34m.\u001B[0m\u001B[0m_getDim_I\u001B[0m\u001B[0;34m(\u001B[0m\u001B[0m_0\u001B[0m\u001B[0;34m)\u001B[0m\u001B[0;34m)\u001B[0m\u001B[0;34m:\u001B[0m \u001B[0;31m# src/fusion/ExprAdd.monty:618:14-42\u001B[0m\u001B[0;34m\u001B[0m\u001B[0;34m\u001B[0m\u001B[0m\n\u001B[0;32m> 28050\u001B[0;31m      \u001B[0;32mraise\u001B[0m \u001B[0mmosek_fusion_DimensionError\u001B[0m\u001B[0;34m.\u001B[0m\u001B[0m_ctor_S\u001B[0m\u001B[0;34m(\u001B[0m\u001B[0;34m\"Mismatching operand shapes\"\u001B[0m\u001B[0;34m)\u001B[0m\u001B[0;34m\u001B[0m\u001B[0;34m\u001B[0m\u001B[0m\n\u001B[0m\u001B[1;32m  28051\u001B[0m   \u001B[0;34m@\u001B[0m\u001B[0mstaticmethod\u001B[0m\u001B[0;34m\u001B[0m\u001B[0;34m\u001B[0m\u001B[0m\n\u001B[1;32m  28052\u001B[0m   \u001B[0;32mdef\u001B[0m \u001B[0m_match_eval_Lmosek_4fusion_4WorkStack_2Lmosek_4fusion_4WorkStack_2Lmosek_4fusion_4WorkStack_2\u001B[0m\u001B[0;34m(\u001B[0m\u001B[0;34m*\u001B[0m\u001B[0margs\u001B[0m\u001B[0;34m)\u001B[0m\u001B[0;34m:\u001B[0m\u001B[0;34m\u001B[0m\u001B[0;34m\u001B[0m\u001B[0m\n",
      "\u001B[0;31mDimensionError\u001B[0m: Mismatching operand shapes"
     ]
    }
   ],
   "source": [
    "for i in range(10):\n",
    "  x, t, s = subp_x(xi, kappa, mu, rho, False)\n",
    "  xi, xs_sqr = subp_xi(x, mu, rho, False)\n",
    "  x_s  = np.diag(x @ xi.T) - 4\n",
    "  # t_s  = t - 4\n",
    "  alm = x_s.T @ mu + xs_sqr.sum() * rho # + t_s @ kappa\n",
    "  mu += x_s * rho\n",
    "  rho = rho * 1.1\n",
    "  # if abs(alm) < 1e-2:\n",
    "  #   break\n",
    "  print(f\"@{i}, alm: {alm}, bd: {0}, 𝜉x: {x_s + 4}\")"
   ],
   "metadata": {
    "collapsed": false,
    "pycharm": {
     "name": "#%%\n"
    }
   }
  },
  {
   "cell_type": "code",
   "execution_count": 64,
   "outputs": [
    {
     "data": {
      "text/plain": "array([-0.53589839, -0.53589839])"
     },
     "execution_count": 64,
     "metadata": {},
     "output_type": "execute_result"
    }
   ],
   "source": [
    "x_s"
   ],
   "metadata": {
    "collapsed": false,
    "pycharm": {
     "name": "#%%\n"
    }
   }
  },
  {
   "cell_type": "code",
   "execution_count": 18,
   "outputs": [
    {
     "data": {
      "text/plain": "1.224744871391589"
     },
     "execution_count": 18,
     "metadata": {},
     "output_type": "execute_result"
    }
   ],
   "source": [
    "np.sqrt(3/2)"
   ],
   "metadata": {
    "collapsed": false,
    "pycharm": {
     "name": "#%%\n"
    }
   }
  },
  {
   "cell_type": "code",
   "execution_count": null,
   "outputs": [],
   "source": [],
   "metadata": {
    "collapsed": false,
    "pycharm": {
     "name": "#%%\n"
    }
   }
  }
 ],
 "metadata": {
  "kernelspec": {
   "display_name": "Python 3",
   "language": "python",
   "name": "python3"
  },
  "language_info": {
   "codemirror_mode": {
    "name": "ipython",
    "version": 2
   },
   "file_extension": ".py",
   "mimetype": "text/x-python",
   "name": "python",
   "nbconvert_exporter": "python",
   "pygments_lexer": "ipython2",
   "version": "2.7.6"
  }
 },
 "nbformat": 4,
 "nbformat_minor": 0
}